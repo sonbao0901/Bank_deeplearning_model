{
  "cells": [
    {
      "cell_type": "markdown",
      "metadata": {
        "id": "e09mBBKGB7AW"
      },
      "source": [
        "# **Kết Nối Google Drive**"
      ]
    },
    {
      "cell_type": "code",
      "execution_count": null,
      "metadata": {
        "colab": {
          "base_uri": "https://localhost:8080/"
        },
        "id": "vJscnKV0ZlFG",
        "outputId": "f770ad6b-9960-4d01-fcae-9cf864384d4f"
      },
      "outputs": [
        {
          "output_type": "stream",
          "name": "stdout",
          "text": [
            "Mounted at /content/gdrive\n"
          ]
        }
      ],
      "source": [
        "from google.colab import drive\n",
        "drive.mount('/content/gdrive')"
      ]
    },
    {
      "cell_type": "markdown",
      "metadata": {
        "id": "Wl4F_AYmCG8R"
      },
      "source": [
        "# **Import Thư Viện và Load Data**"
      ]
    },
    {
      "cell_type": "code",
      "execution_count": null,
      "metadata": {
        "id": "TxRLlzi5aGVV"
      },
      "outputs": [],
      "source": [
        "from sklearn.metrics import accuracy_score\n",
        "from sklearn.metrics import roc_auc_score\n",
        "import numpy as np\n",
        "import pandas as pd \n",
        "import os\n",
        "from sklearn.tree import DecisionTreeClassifier\n",
        "from sklearn.tree import plot_tree\n",
        "from sklearn.model_selection import train_test_split\n",
        "from sklearn.model_selection import cross_val_score\n",
        "from sklearn.metrics import confusion_matrix\n",
        "from sklearn.model_selection import train_test_split\n",
        "from sklearn.model_selection import RandomizedSearchCV\n",
        "from sklearn.neighbors import KNeighborsClassifier\n",
        "from sklearn.preprocessing import StandardScaler\n",
        "from sklearn.ensemble import RandomForestClassifier\n",
        "import seaborn as sns\n",
        "import matplotlib.pyplot as plt \n",
        "from sklearn import metrics\n",
        "from sklearn.metrics import accuracy_score, f1_score, precision_score, recall_score, classification_report, confusion_matrix,r2_score\n",
        "from sklearn import model_selection\n",
        "from sklearn.ensemble import BaggingClassifier\n",
        "import warnings\n",
        "from imblearn.over_sampling import SMOTE\n",
        "warnings.filterwarnings('ignore')\n",
        "import tensorflow as tf\n",
        "from tensorflow import keras \n",
        "from tensorflow import keras\n",
        "from tensorflow.keras.models import Sequential\n",
        "from tensorflow.keras.layers import Dense\n",
        "from tensorflow.keras.optimizers import Adam \n",
        "from sklearn.metrics import accuracy_score\n",
        "from sklearn.metrics import confusion_matrix\n",
        "from sklearn.compose import ColumnTransformer\n",
        "from sklearn.preprocessing import OneHotEncoder\n",
        "from sklearn.preprocessing import OrdinalEncoder\n",
        "from sklearn.preprocessing import LabelEncoder\n",
        "from sklearn.preprocessing import StandardScaler\n",
        "from sklearn import svm"
      ]
    },
    {
      "cell_type": "code",
      "execution_count": null,
      "metadata": {
        "colab": {
          "base_uri": "https://localhost:8080/"
        },
        "id": "NcR4Z0QjaAbZ",
        "outputId": "dd839bb0-d12f-409c-9370-c35049ad8649"
      },
      "outputs": [
        {
          "output_type": "display_data",
          "data": {
            "text/plain": [
              "       age          job  marital            education  default housing loan  \\\n",
              "0       56    housemaid  married             basic.4y       no      no   no   \n",
              "1       57     services  married          high.school  unknown      no   no   \n",
              "2       37     services  married          high.school       no     yes   no   \n",
              "3       40       admin.  married             basic.6y       no      no   no   \n",
              "4       56     services  married          high.school       no      no  yes   \n",
              "...    ...          ...      ...                  ...      ...     ...  ...   \n",
              "41183   73      retired  married  professional.course       no     yes   no   \n",
              "41184   46  blue-collar  married  professional.course       no      no   no   \n",
              "41185   56      retired  married    university.degree       no     yes   no   \n",
              "41186   44   technician  married  professional.course       no      no   no   \n",
              "41187   74      retired  married  professional.course       no     yes   no   \n",
              "\n",
              "         contact month day_of_week  ...  campaign  pdays  previous  \\\n",
              "0      telephone   may         mon  ...         1    999         0   \n",
              "1      telephone   may         mon  ...         1    999         0   \n",
              "2      telephone   may         mon  ...         1    999         0   \n",
              "3      telephone   may         mon  ...         1    999         0   \n",
              "4      telephone   may         mon  ...         1    999         0   \n",
              "...          ...   ...         ...  ...       ...    ...       ...   \n",
              "41183   cellular   nov         fri  ...         1    999         0   \n",
              "41184   cellular   nov         fri  ...         1    999         0   \n",
              "41185   cellular   nov         fri  ...         2    999         0   \n",
              "41186   cellular   nov         fri  ...         1    999         0   \n",
              "41187   cellular   nov         fri  ...         3    999         1   \n",
              "\n",
              "          poutcome emp.var.rate  cons.price.idx  cons.conf.idx  euribor3m  \\\n",
              "0      nonexistent          1.1          93.994          -36.4      4.857   \n",
              "1      nonexistent          1.1          93.994          -36.4      4.857   \n",
              "2      nonexistent          1.1          93.994          -36.4      4.857   \n",
              "3      nonexistent          1.1          93.994          -36.4      4.857   \n",
              "4      nonexistent          1.1          93.994          -36.4      4.857   \n",
              "...            ...          ...             ...            ...        ...   \n",
              "41183  nonexistent         -1.1          94.767          -50.8      1.028   \n",
              "41184  nonexistent         -1.1          94.767          -50.8      1.028   \n",
              "41185  nonexistent         -1.1          94.767          -50.8      1.028   \n",
              "41186  nonexistent         -1.1          94.767          -50.8      1.028   \n",
              "41187      failure         -1.1          94.767          -50.8      1.028   \n",
              "\n",
              "       nr.employed    y  \n",
              "0           5191.0   no  \n",
              "1           5191.0   no  \n",
              "2           5191.0   no  \n",
              "3           5191.0   no  \n",
              "4           5191.0   no  \n",
              "...            ...  ...  \n",
              "41183       4963.6  yes  \n",
              "41184       4963.6   no  \n",
              "41185       4963.6   no  \n",
              "41186       4963.6  yes  \n",
              "41187       4963.6   no  \n",
              "\n",
              "[41188 rows x 21 columns]"
            ],
            "text/html": [
              "\n",
              "  <div id=\"df-9ff2142b-db4a-4160-a3d4-e3242dd1a51a\">\n",
              "    <div class=\"colab-df-container\">\n",
              "      <div>\n",
              "<style scoped>\n",
              "    .dataframe tbody tr th:only-of-type {\n",
              "        vertical-align: middle;\n",
              "    }\n",
              "\n",
              "    .dataframe tbody tr th {\n",
              "        vertical-align: top;\n",
              "    }\n",
              "\n",
              "    .dataframe thead th {\n",
              "        text-align: right;\n",
              "    }\n",
              "</style>\n",
              "<table border=\"1\" class=\"dataframe\">\n",
              "  <thead>\n",
              "    <tr style=\"text-align: right;\">\n",
              "      <th></th>\n",
              "      <th>age</th>\n",
              "      <th>job</th>\n",
              "      <th>marital</th>\n",
              "      <th>education</th>\n",
              "      <th>default</th>\n",
              "      <th>housing</th>\n",
              "      <th>loan</th>\n",
              "      <th>contact</th>\n",
              "      <th>month</th>\n",
              "      <th>day_of_week</th>\n",
              "      <th>...</th>\n",
              "      <th>campaign</th>\n",
              "      <th>pdays</th>\n",
              "      <th>previous</th>\n",
              "      <th>poutcome</th>\n",
              "      <th>emp.var.rate</th>\n",
              "      <th>cons.price.idx</th>\n",
              "      <th>cons.conf.idx</th>\n",
              "      <th>euribor3m</th>\n",
              "      <th>nr.employed</th>\n",
              "      <th>y</th>\n",
              "    </tr>\n",
              "  </thead>\n",
              "  <tbody>\n",
              "    <tr>\n",
              "      <th>0</th>\n",
              "      <td>56</td>\n",
              "      <td>housemaid</td>\n",
              "      <td>married</td>\n",
              "      <td>basic.4y</td>\n",
              "      <td>no</td>\n",
              "      <td>no</td>\n",
              "      <td>no</td>\n",
              "      <td>telephone</td>\n",
              "      <td>may</td>\n",
              "      <td>mon</td>\n",
              "      <td>...</td>\n",
              "      <td>1</td>\n",
              "      <td>999</td>\n",
              "      <td>0</td>\n",
              "      <td>nonexistent</td>\n",
              "      <td>1.1</td>\n",
              "      <td>93.994</td>\n",
              "      <td>-36.4</td>\n",
              "      <td>4.857</td>\n",
              "      <td>5191.0</td>\n",
              "      <td>no</td>\n",
              "    </tr>\n",
              "    <tr>\n",
              "      <th>1</th>\n",
              "      <td>57</td>\n",
              "      <td>services</td>\n",
              "      <td>married</td>\n",
              "      <td>high.school</td>\n",
              "      <td>unknown</td>\n",
              "      <td>no</td>\n",
              "      <td>no</td>\n",
              "      <td>telephone</td>\n",
              "      <td>may</td>\n",
              "      <td>mon</td>\n",
              "      <td>...</td>\n",
              "      <td>1</td>\n",
              "      <td>999</td>\n",
              "      <td>0</td>\n",
              "      <td>nonexistent</td>\n",
              "      <td>1.1</td>\n",
              "      <td>93.994</td>\n",
              "      <td>-36.4</td>\n",
              "      <td>4.857</td>\n",
              "      <td>5191.0</td>\n",
              "      <td>no</td>\n",
              "    </tr>\n",
              "    <tr>\n",
              "      <th>2</th>\n",
              "      <td>37</td>\n",
              "      <td>services</td>\n",
              "      <td>married</td>\n",
              "      <td>high.school</td>\n",
              "      <td>no</td>\n",
              "      <td>yes</td>\n",
              "      <td>no</td>\n",
              "      <td>telephone</td>\n",
              "      <td>may</td>\n",
              "      <td>mon</td>\n",
              "      <td>...</td>\n",
              "      <td>1</td>\n",
              "      <td>999</td>\n",
              "      <td>0</td>\n",
              "      <td>nonexistent</td>\n",
              "      <td>1.1</td>\n",
              "      <td>93.994</td>\n",
              "      <td>-36.4</td>\n",
              "      <td>4.857</td>\n",
              "      <td>5191.0</td>\n",
              "      <td>no</td>\n",
              "    </tr>\n",
              "    <tr>\n",
              "      <th>3</th>\n",
              "      <td>40</td>\n",
              "      <td>admin.</td>\n",
              "      <td>married</td>\n",
              "      <td>basic.6y</td>\n",
              "      <td>no</td>\n",
              "      <td>no</td>\n",
              "      <td>no</td>\n",
              "      <td>telephone</td>\n",
              "      <td>may</td>\n",
              "      <td>mon</td>\n",
              "      <td>...</td>\n",
              "      <td>1</td>\n",
              "      <td>999</td>\n",
              "      <td>0</td>\n",
              "      <td>nonexistent</td>\n",
              "      <td>1.1</td>\n",
              "      <td>93.994</td>\n",
              "      <td>-36.4</td>\n",
              "      <td>4.857</td>\n",
              "      <td>5191.0</td>\n",
              "      <td>no</td>\n",
              "    </tr>\n",
              "    <tr>\n",
              "      <th>4</th>\n",
              "      <td>56</td>\n",
              "      <td>services</td>\n",
              "      <td>married</td>\n",
              "      <td>high.school</td>\n",
              "      <td>no</td>\n",
              "      <td>no</td>\n",
              "      <td>yes</td>\n",
              "      <td>telephone</td>\n",
              "      <td>may</td>\n",
              "      <td>mon</td>\n",
              "      <td>...</td>\n",
              "      <td>1</td>\n",
              "      <td>999</td>\n",
              "      <td>0</td>\n",
              "      <td>nonexistent</td>\n",
              "      <td>1.1</td>\n",
              "      <td>93.994</td>\n",
              "      <td>-36.4</td>\n",
              "      <td>4.857</td>\n",
              "      <td>5191.0</td>\n",
              "      <td>no</td>\n",
              "    </tr>\n",
              "    <tr>\n",
              "      <th>...</th>\n",
              "      <td>...</td>\n",
              "      <td>...</td>\n",
              "      <td>...</td>\n",
              "      <td>...</td>\n",
              "      <td>...</td>\n",
              "      <td>...</td>\n",
              "      <td>...</td>\n",
              "      <td>...</td>\n",
              "      <td>...</td>\n",
              "      <td>...</td>\n",
              "      <td>...</td>\n",
              "      <td>...</td>\n",
              "      <td>...</td>\n",
              "      <td>...</td>\n",
              "      <td>...</td>\n",
              "      <td>...</td>\n",
              "      <td>...</td>\n",
              "      <td>...</td>\n",
              "      <td>...</td>\n",
              "      <td>...</td>\n",
              "      <td>...</td>\n",
              "    </tr>\n",
              "    <tr>\n",
              "      <th>41183</th>\n",
              "      <td>73</td>\n",
              "      <td>retired</td>\n",
              "      <td>married</td>\n",
              "      <td>professional.course</td>\n",
              "      <td>no</td>\n",
              "      <td>yes</td>\n",
              "      <td>no</td>\n",
              "      <td>cellular</td>\n",
              "      <td>nov</td>\n",
              "      <td>fri</td>\n",
              "      <td>...</td>\n",
              "      <td>1</td>\n",
              "      <td>999</td>\n",
              "      <td>0</td>\n",
              "      <td>nonexistent</td>\n",
              "      <td>-1.1</td>\n",
              "      <td>94.767</td>\n",
              "      <td>-50.8</td>\n",
              "      <td>1.028</td>\n",
              "      <td>4963.6</td>\n",
              "      <td>yes</td>\n",
              "    </tr>\n",
              "    <tr>\n",
              "      <th>41184</th>\n",
              "      <td>46</td>\n",
              "      <td>blue-collar</td>\n",
              "      <td>married</td>\n",
              "      <td>professional.course</td>\n",
              "      <td>no</td>\n",
              "      <td>no</td>\n",
              "      <td>no</td>\n",
              "      <td>cellular</td>\n",
              "      <td>nov</td>\n",
              "      <td>fri</td>\n",
              "      <td>...</td>\n",
              "      <td>1</td>\n",
              "      <td>999</td>\n",
              "      <td>0</td>\n",
              "      <td>nonexistent</td>\n",
              "      <td>-1.1</td>\n",
              "      <td>94.767</td>\n",
              "      <td>-50.8</td>\n",
              "      <td>1.028</td>\n",
              "      <td>4963.6</td>\n",
              "      <td>no</td>\n",
              "    </tr>\n",
              "    <tr>\n",
              "      <th>41185</th>\n",
              "      <td>56</td>\n",
              "      <td>retired</td>\n",
              "      <td>married</td>\n",
              "      <td>university.degree</td>\n",
              "      <td>no</td>\n",
              "      <td>yes</td>\n",
              "      <td>no</td>\n",
              "      <td>cellular</td>\n",
              "      <td>nov</td>\n",
              "      <td>fri</td>\n",
              "      <td>...</td>\n",
              "      <td>2</td>\n",
              "      <td>999</td>\n",
              "      <td>0</td>\n",
              "      <td>nonexistent</td>\n",
              "      <td>-1.1</td>\n",
              "      <td>94.767</td>\n",
              "      <td>-50.8</td>\n",
              "      <td>1.028</td>\n",
              "      <td>4963.6</td>\n",
              "      <td>no</td>\n",
              "    </tr>\n",
              "    <tr>\n",
              "      <th>41186</th>\n",
              "      <td>44</td>\n",
              "      <td>technician</td>\n",
              "      <td>married</td>\n",
              "      <td>professional.course</td>\n",
              "      <td>no</td>\n",
              "      <td>no</td>\n",
              "      <td>no</td>\n",
              "      <td>cellular</td>\n",
              "      <td>nov</td>\n",
              "      <td>fri</td>\n",
              "      <td>...</td>\n",
              "      <td>1</td>\n",
              "      <td>999</td>\n",
              "      <td>0</td>\n",
              "      <td>nonexistent</td>\n",
              "      <td>-1.1</td>\n",
              "      <td>94.767</td>\n",
              "      <td>-50.8</td>\n",
              "      <td>1.028</td>\n",
              "      <td>4963.6</td>\n",
              "      <td>yes</td>\n",
              "    </tr>\n",
              "    <tr>\n",
              "      <th>41187</th>\n",
              "      <td>74</td>\n",
              "      <td>retired</td>\n",
              "      <td>married</td>\n",
              "      <td>professional.course</td>\n",
              "      <td>no</td>\n",
              "      <td>yes</td>\n",
              "      <td>no</td>\n",
              "      <td>cellular</td>\n",
              "      <td>nov</td>\n",
              "      <td>fri</td>\n",
              "      <td>...</td>\n",
              "      <td>3</td>\n",
              "      <td>999</td>\n",
              "      <td>1</td>\n",
              "      <td>failure</td>\n",
              "      <td>-1.1</td>\n",
              "      <td>94.767</td>\n",
              "      <td>-50.8</td>\n",
              "      <td>1.028</td>\n",
              "      <td>4963.6</td>\n",
              "      <td>no</td>\n",
              "    </tr>\n",
              "  </tbody>\n",
              "</table>\n",
              "<p>41188 rows × 21 columns</p>\n",
              "</div>\n",
              "      <button class=\"colab-df-convert\" onclick=\"convertToInteractive('df-9ff2142b-db4a-4160-a3d4-e3242dd1a51a')\"\n",
              "              title=\"Convert this dataframe to an interactive table.\"\n",
              "              style=\"display:none;\">\n",
              "        \n",
              "  <svg xmlns=\"http://www.w3.org/2000/svg\" height=\"24px\"viewBox=\"0 0 24 24\"\n",
              "       width=\"24px\">\n",
              "    <path d=\"M0 0h24v24H0V0z\" fill=\"none\"/>\n",
              "    <path d=\"M18.56 5.44l.94 2.06.94-2.06 2.06-.94-2.06-.94-.94-2.06-.94 2.06-2.06.94zm-11 1L8.5 8.5l.94-2.06 2.06-.94-2.06-.94L8.5 2.5l-.94 2.06-2.06.94zm10 10l.94 2.06.94-2.06 2.06-.94-2.06-.94-.94-2.06-.94 2.06-2.06.94z\"/><path d=\"M17.41 7.96l-1.37-1.37c-.4-.4-.92-.59-1.43-.59-.52 0-1.04.2-1.43.59L10.3 9.45l-7.72 7.72c-.78.78-.78 2.05 0 2.83L4 21.41c.39.39.9.59 1.41.59.51 0 1.02-.2 1.41-.59l7.78-7.78 2.81-2.81c.8-.78.8-2.07 0-2.86zM5.41 20L4 18.59l7.72-7.72 1.47 1.35L5.41 20z\"/>\n",
              "  </svg>\n",
              "      </button>\n",
              "      \n",
              "  <style>\n",
              "    .colab-df-container {\n",
              "      display:flex;\n",
              "      flex-wrap:wrap;\n",
              "      gap: 12px;\n",
              "    }\n",
              "\n",
              "    .colab-df-convert {\n",
              "      background-color: #E8F0FE;\n",
              "      border: none;\n",
              "      border-radius: 50%;\n",
              "      cursor: pointer;\n",
              "      display: none;\n",
              "      fill: #1967D2;\n",
              "      height: 32px;\n",
              "      padding: 0 0 0 0;\n",
              "      width: 32px;\n",
              "    }\n",
              "\n",
              "    .colab-df-convert:hover {\n",
              "      background-color: #E2EBFA;\n",
              "      box-shadow: 0px 1px 2px rgba(60, 64, 67, 0.3), 0px 1px 3px 1px rgba(60, 64, 67, 0.15);\n",
              "      fill: #174EA6;\n",
              "    }\n",
              "\n",
              "    [theme=dark] .colab-df-convert {\n",
              "      background-color: #3B4455;\n",
              "      fill: #D2E3FC;\n",
              "    }\n",
              "\n",
              "    [theme=dark] .colab-df-convert:hover {\n",
              "      background-color: #434B5C;\n",
              "      box-shadow: 0px 1px 3px 1px rgba(0, 0, 0, 0.15);\n",
              "      filter: drop-shadow(0px 1px 2px rgba(0, 0, 0, 0.3));\n",
              "      fill: #FFFFFF;\n",
              "    }\n",
              "  </style>\n",
              "\n",
              "      <script>\n",
              "        const buttonEl =\n",
              "          document.querySelector('#df-9ff2142b-db4a-4160-a3d4-e3242dd1a51a button.colab-df-convert');\n",
              "        buttonEl.style.display =\n",
              "          google.colab.kernel.accessAllowed ? 'block' : 'none';\n",
              "\n",
              "        async function convertToInteractive(key) {\n",
              "          const element = document.querySelector('#df-9ff2142b-db4a-4160-a3d4-e3242dd1a51a');\n",
              "          const dataTable =\n",
              "            await google.colab.kernel.invokeFunction('convertToInteractive',\n",
              "                                                     [key], {});\n",
              "          if (!dataTable) return;\n",
              "\n",
              "          const docLinkHtml = 'Like what you see? Visit the ' +\n",
              "            '<a target=\"_blank\" href=https://colab.research.google.com/notebooks/data_table.ipynb>data table notebook</a>'\n",
              "            + ' to learn more about interactive tables.';\n",
              "          element.innerHTML = '';\n",
              "          dataTable['output_type'] = 'display_data';\n",
              "          await google.colab.output.renderOutput(dataTable, element);\n",
              "          const docLink = document.createElement('div');\n",
              "          docLink.innerHTML = docLinkHtml;\n",
              "          element.appendChild(docLink);\n",
              "        }\n",
              "      </script>\n",
              "    </div>\n",
              "  </div>\n",
              "  "
            ]
          },
          "metadata": {}
        }
      ],
      "source": [
        "# Load data\n",
        "data = pd.read_csv('/content/gdrive/MyDrive/Project/đồ án ML/bank-additional-full.csv', sep = ';')\n",
        "display(data)"
      ]
    },
    {
      "cell_type": "markdown",
      "metadata": {
        "id": "TKKl3vsXEHLR"
      },
      "source": [
        "# **Tiền Xử Lý Dữ Liệu**"
      ]
    },
    {
      "cell_type": "markdown",
      "metadata": {
        "id": "Z_9Wg1xZEK3X"
      },
      "source": [
        "## *- Kiểm Tra missing values*"
      ]
    },
    {
      "cell_type": "code",
      "execution_count": null,
      "metadata": {
        "colab": {
          "base_uri": "https://localhost:8080/"
        },
        "id": "PDHO35LFaEFz",
        "outputId": "c9faa153-aa9e-47a4-aa39-792c5d485db6"
      },
      "outputs": [
        {
          "output_type": "stream",
          "name": "stdout",
          "text": [
            "<class 'pandas.core.frame.DataFrame'>\n",
            "RangeIndex: 41188 entries, 0 to 41187\n",
            "Data columns (total 21 columns):\n",
            " #   Column          Non-Null Count  Dtype  \n",
            "---  ------          --------------  -----  \n",
            " 0   age             41188 non-null  int64  \n",
            " 1   job             41188 non-null  object \n",
            " 2   marital         41188 non-null  object \n",
            " 3   education       41188 non-null  object \n",
            " 4   default         41188 non-null  object \n",
            " 5   housing         41188 non-null  object \n",
            " 6   loan            41188 non-null  object \n",
            " 7   contact         41188 non-null  object \n",
            " 8   month           41188 non-null  object \n",
            " 9   day_of_week     41188 non-null  object \n",
            " 10  duration        41188 non-null  int64  \n",
            " 11  campaign        41188 non-null  int64  \n",
            " 12  pdays           41188 non-null  int64  \n",
            " 13  previous        41188 non-null  int64  \n",
            " 14  poutcome        41188 non-null  object \n",
            " 15  emp.var.rate    41188 non-null  float64\n",
            " 16  cons.price.idx  41188 non-null  float64\n",
            " 17  cons.conf.idx   41188 non-null  float64\n",
            " 18  euribor3m       41188 non-null  float64\n",
            " 19  nr.employed     41188 non-null  float64\n",
            " 20  y               41188 non-null  object \n",
            "dtypes: float64(5), int64(5), object(11)\n",
            "memory usage: 6.6+ MB\n"
          ]
        }
      ],
      "source": [
        "# Kiểm tra thông tin dữ liệu\n",
        "data.info()\n",
        "# các columns đều đúng kiểu dữ liệu"
      ]
    },
    {
      "cell_type": "code",
      "execution_count": null,
      "metadata": {
        "colab": {
          "base_uri": "https://localhost:8080/"
        },
        "id": "owRqbNgQaX_r",
        "outputId": "c45836c1-aa33-48cc-f6df-03c304c63768"
      },
      "outputs": [
        {
          "output_type": "execute_result",
          "data": {
            "text/plain": [
              "age               0\n",
              "job               0\n",
              "marital           0\n",
              "education         0\n",
              "default           0\n",
              "housing           0\n",
              "loan              0\n",
              "contact           0\n",
              "month             0\n",
              "day_of_week       0\n",
              "duration          0\n",
              "campaign          0\n",
              "pdays             0\n",
              "previous          0\n",
              "poutcome          0\n",
              "emp.var.rate      0\n",
              "cons.price.idx    0\n",
              "cons.conf.idx     0\n",
              "euribor3m         0\n",
              "nr.employed       0\n",
              "y                 0\n",
              "dtype: int64"
            ]
          },
          "metadata": {},
          "execution_count": 5
        }
      ],
      "source": [
        "# Kiểm tra các cột chứa dữ liệu thiếu\n",
        "data.isna().sum()\n",
        "# không có missing values"
      ]
    },
    {
      "cell_type": "code",
      "execution_count": null,
      "metadata": {
        "colab": {
          "base_uri": "https://localhost:8080/"
        },
        "id": "NUtpLq0u2Sno",
        "outputId": "05904625-26d3-47b8-8a5c-1a439be47df7"
      },
      "outputs": [
        {
          "output_type": "stream",
          "name": "stdout",
          "text": [
            "age    [56, 57, 37, 40, 45, 59, 41, 24, 25, 29, 35, 54, 46, 50, 39, 30, 55, 49, 34, 52, 58, 32, 38, 44, 42, 60, 53, 47, 51, 48, 33, 31, 43, 36, 28, 27, 26, 22, 23, 20, 21, 61, 19, 18, 70, 66, 76, 67, 73, 88, 95, 77, 68, 75, 63, 80, 62, 65, 72, 82, 64, 71, 69, 78, 85, 79, 83, 81, 74, 17, 87, 91, 86, 98, 94, 84, 92, 89]\n",
            "job    ['housemaid', 'services', 'admin.', 'blue-collar', 'technician', 'retired', 'management', 'unemployed', 'self-employed', 'unknown', 'entrepreneur', 'student']\n",
            "marital    ['married', 'single', 'divorced', 'unknown']\n",
            "education    ['basic.4y', 'high.school', 'basic.6y', 'basic.9y', 'professional.course', 'unknown', 'university.degree', 'illiterate']\n",
            "default    ['no', 'unknown', 'yes']\n",
            "housing    ['no', 'yes', 'unknown']\n",
            "loan    ['no', 'yes', 'unknown']\n",
            "contact    ['telephone', 'cellular']\n",
            "month    ['may', 'jun', 'jul', 'aug', 'oct', 'nov', 'dec', 'mar', 'apr', 'sep']\n",
            "day_of_week    ['mon', 'tue', 'wed', 'thu', 'fri']\n",
            "duration    [261, 149, 226, 151, 307, 198, 139, 217, 380, 50, 55, 222, 137, 293, 146, 174, 312, 440, 353, 195, 38, 262, 342, 181, 172, 99, 93, 233, 255, 362, 348, 386, 73, 230, 208, 336, 365, 1666, 577, 366, 314, 160, 212, 188, 22, 616, 178, 355, 225, 266, 253, 179, 269, 135, 161, 787, 145, 449, 812, 164, 357, 232, 91, 273, 158, 177, 200, 176, 211, 214, 1575, 349, 337, 272, 193, 165, 1042, 20, 246, 529, 192, 1467, 180, 48, 213, 545, 583, 221, 426, 287, 197, 257, 229, 400, 190, 21, 300, 123, 325, 514, 849, 194, 286, 247, 518, 364, 98, 439, 79, 175, 61, 78, 102, 579, 143, 677, 267, 345, 185, 207, 69, 100, 125, 461, 240, 70, 136, 528, 541, 338, 163, 87, 301, 46, 52, 204, 155, 71, 243, 186, 559, 2033, 85, 506, 114, 843, 427, 292, 128, 107, 303, 81, 270, 228, 673, 250, 130, 252, 138, 412, 19, 717, 313, 289, 683, 1077, 167, 356, 277, 218, 67, 291, 248, 256, 477, 611, 471, 381, 251, 408, 322, 216, 210, 288, 168, 132, 64, 209, 410, 580, 127, 189, 238, 124, 18, 730, 40, 142, 389, 702, 117, 370, 119, 361, 350, 150, 332, 58, 89, 152, 110, 463, 962, 10, 118, 92, 75, 935, 56, 5, 206, 446, 742, 120, 122, 215, 205, 83, 106, 108, 358, 453, 173, 241, 224, 148, 199, 196, 111, 231, 316, 669, 425, 121, 88, 402, 144, 220, 254, 503, 680, 421, 113, 347, 404, 396, 379, 306, 77, 54, 344, 202, 278, 184, 235, 290, 133, 318, 437, 501, 1201, 1030, 769, 442, 455, 424, 43, 154, 393, 203, 140, 326, 483, 259, 227, 576, 90, 505, 245, 623, 496, 276, 744, 271, 141, 264, 309, 1623, 101, 354, 451, 159, 170, 112, 53, 134, 678, 182, 162, 27, 699, 1677, 310, 47, 30, 472, 116, 448, 169, 157, 49, 374, 531, 153, 80, 568, 918, 82, 166, 369, 371, 263, 41, 13, 26, 792, 242, 268, 375, 383, 1297, 502, 260, 105, 524, 352, 695, 76, 535, 390, 315, 36, 1906, 219, 147, 407, 65, 284, 285, 258, 635, 802, 57, 304, 392, 201, 329, 328, 191, 532, 416, 37, 530, 29, 311, 507, 333, 739, 339, 308, 467, 378, 1597, 346, 60, 716, 234, 296, 283, 109, 95, 31, 593, 631, 32, 1529, 800, 239, 42, 305, 343, 126, 249, 59, 51, 275, 479, 96, 720, 395, 629, 131, 298, 97, 104, 852, 294, 74, 992, 464, 732, 359, 274, 1521, 615, 327, 236, 492, 1138, 295, 591, 786, 388, 25, 401, 435, 423, 799, 45, 68, 444, 223, 566, 376, 511, 866, 1581, 279, 129, 432, 516, 617, 171, 614, 485, 406, 650, 590, 72, 474, 1101, 912, 1062, 688, 103, 607, 331, 398, 803, 481, 418, 24, 441, 1009, 550, 764, 1273, 1574, 62, 517, 299, 244, 548, 66, 984, 1689, 84, 489, 865, 281, 944, 319, 35, 17, 280, 156, 813, 94, 183, 604, 86, 11, 405, 462, 39, 187, 323, 521, 1119, 12, 1120, 33, 784, 665, 475, 63, 712, 1007, 237, 500, 789, 513, 468, 756, 14, 491, 44, 989, 1170, 807, 534, 28, 302, 2087, 767, 627, 403, 626, 23, 543, 1178, 422, 15, 335, 956, 459, 4, 985, 672, 8, 330, 399, 297, 886, 341, 515, 1187, 466, 826, 598, 584, 847, 659, 772, 929, 710, 498, 705, 480, 2462, 1132, 384, 825, 490, 115, 646, 653, 377, 544, 324, 391, 654, 1087, 557, 1692, 622, 2016, 1054, 282, 409, 1713, 551, 663, 1080, 1461, 750, 488, 460, 878, 317, 834, 1534, 836, 1002, 592, 757, 523, 363, 1147, 486, 539, 820, 788, 832, 1111, 1495, 493, 457, 891, 1083, 1266, 470, 793, 413, 574, 596, 320, 484, 456, 334, 504, 907, 723, 1346, 520, 382, 1386, 428, 360, 3366, 1000, 618, 351, 2231, 373, 340, 1167, 609, 806, 766, 1015, 768, 473, 1001, 845, 853, 452, 916, 443, 431, 565, 753, 708, 265, 434, 805, 3, 420, 367, 394, 411, 34, 851, 1052, 647, 771, 1093, 1106, 945, 816, 1721, 1032, 735, 438, 942, 387, 476, 606, 824, 1328, 686, 1125, 1321, 858, 546, 429, 869, 833, 829, 749, 1028, 977, 927, 762, 746, 1044, 668, 726, 634, 554, 436, 902, 594, 636, 738, 482, 567, 582, 1118, 837, 1423, 856, 747, 1013, 415, 552, 644, 558, 1088, 1074, 1036, 397, 599, 1257, 1165, 651, 734, 417, 587, 920, 1244, 719, 597, 525, 815, 911, 465, 973, 561, 1224, 589, 964, 1156, 1231, 619, 1051, 419, 1867, 760, 1263, 770, 487, 697, 430, 809, 7, 850, 855, 875, 892, 512, 601, 844, 676, 656, 1252, 1143, 731, 754, 679, 1230, 894, 703, 433, 1340, 897, 718, 1161, 16, 2680, 698, 1128, 509, 1135, 1408, 827, 588, 522, 1193, 1144, 1023, 469, 385, 1245, 1064, 1110, 882, 943, 798, 610, 1203, 1022, 643, 571, 445, 1622, 967, 1218, 3078, 1205, 1882, 1334, 775, 600, 447, 1777, 774, 1313, 1452, 547, 1376, 1045, 625, 999, 657, 1063, 1446, 6, 919, 777, 1392, 725, 801, 938, 692, 905, 508, 783, 603, 872, 641, 958, 628, 494, 759, 819, 648, 951, 578, 795, 542, 828, 1307, 748, 563, 450, 899, 857, 660, 1681, 572, 573, 811, 890, 681, 1162, 1697, 860, 575, 987, 671, 713, 923, 700, 526, 621, 1349, 1171, 736, 785, 1073, 533, 924, 691, 536, 556, 1003, 926, 773, 893, 478, 553, 1438, 569, 372, 368, 1059, 1222, 1034, 581, 974, 745, 630, 863, 1234, 642, 729, 895, 519, 321, 796, 724, 741, 414, 454, 896, 763, 633, 560, 955, 674, 740, 776, 537, 755, 751, 1590, 709, 570, 0, 953, 3094, 1043, 662, 1168, 861, 1479, 1210, 821, 497, 1183, 675, 694, 664, 864, 1730, 667, 1277, 585, 620, 1196, 733, 791, 1207, 936, 932, 879, 1026, 689, 1047, 637, 685, 1611, 752, 1185, 900, 814, 859, 1109, 645, 2260, 711, 555, 867, 652, 682, 854, 1269, 868, 1097, 1500, 1236, 613, 1212, 1980, 722, 510, 3631, 947, 1075, 527, 1068, 658, 562, 758, 966, 612, 1330, 930, 1576, 605, 1173, 963, 941, 1025, 495, 2456, 1259, 1363, 1516, 1336, 1242, 1141, 638, 1449, 1254, 2203, 624, 870, 910, 1149, 701, 761, 1053, 1005, 690, 1084, 586, 983, 817, 1018, 884, 1011, 939, 1072, 1276, 1114, 1994, 862, 1567, 968, 1041, 1288, 639, 2653, 1085, 1271, 1469, 1291, 540, 1055, 1098, 901, 940, 782, 952, 1137, 458, 706, 1199, 950, 838, 904, 649, 781, 885, 2025, 993, 871, 1268, 602, 640, 1618, 1243, 1323, 1395, 822, 1238, 1298, 1089, 1021, 1248, 721, 2769, 881, 714, 986, 1848, 1345, 2621, 979, 1208, 835, 1528, 1487, 1540, 632, 707, 1255, 2093, 704, 1195, 1066, 1060, 1082, 810, 1318, 922, 1411, 2028, 1136, 1017, 549, 1012, 9, 2635, 1573, 1663, 1617, 1478, 1422, 818, 693, 804, 1094, 988, 670, 655, 790, 3183, 780, 1049, 1992, 957, 991, 538, 1434, 1272, 1103, 1356, 889, 1200, 933, 830, 564, 1046, 1767, 1027, 831, 1720, 1061, 1344, 687, 2122, 990, 727, 1121, 1139, 728, 1317, 1014, 1290, 1439, 1426, 1019, 1065, 1102, 982, 880, 1341, 2029, 1499, 839, 1399, 3643, 794, 684, 906, 1294, 965, 970, 1973, 1389, 666, 1164, 595, 1081, 1180, 1649, 1310, 1397, 1153, 1130, 1669, 1071, 1056, 778, 808, 1615, 981, 1228, 779, 1424, 1142, 1412, 715, 1806, 1150, 873, 1432, 1339, 1473, 1275, 1008, 1584, 1448, 1151, 1390, 1319, 1175, 1673, 903, 978, 1503, 1127, 909, 1360, 1373, 913, 1425, 1105, 1039, 848, 1877, 1342, 1134, 908, 898, 1352, 1545, 1833, 1220, 1281, 1029, 1508, 661, 608, 1206, 1237, 1287, 1148, 1037, 1226, 1608, 1176, 1152, 874, 1960, 1331, 1776, 1327, 1090, 2078, 1124, 1309, 1300, 1359, 1204, 1756, 1441, 1491, 915, 1869, 823, 1850, 1820, 1602, 1492, 1946, 743, 2015, 1031, 1368, 946, 1369, 1169, 1096, 499, 1076, 1569, 2516, 797, 1186, 1058, 1140, 1078, 1211, 2692, 921, 1739, 846, 1488, 976, 1311, 1332, 1227, 1197, 996, 1357, 2191, 1552, 1250, 1471, 1456, 1462, 1834, 3422, 876, 1934, 1306, 994, 765, 1070, 917, 1099, 1504, 1282, 971, 1181, 1133, 696, 1092, 1613, 1735, 1476, 1842, 969, 737, 1038, 1217, 3322, 1184, 1579, 1871, 1126, 1364, 1559, 1293, 1241, 1740, 975, 1464, 4199, 1505, 1532, 1117, 1123, 1258, 1329, 1809, 1366, 961, 1374, 1223, 2089, 1033, 1129, 1642, 2372, 3253, 2429, 3284, 1239, 4918, 1303, 1606, 1091, 960, 1978, 1122, 1855, 2, 1437, 1788, 972, 1554, 925, 998, 1057, 1548, 1283, 1502, 1265, 1662, 1468, 1337, 1435, 997, 1192, 1816, 1040, 1256, 931, 1490, 1154, 1035, 888, 1166, 1145, 2420, 1598, 2453, 1221, 1182, 1480, 980, 1571, 1555, 1067, 1447, 3076, 1530, 2870, 2316, 1353, 2299, 1, 2129, 1190, 1665, 1594, 1372, 1214, 1174, 1463, 1365, 1285, 1410, 1095, 840, 1624, 949, 2926, 2053, 2139, 1202, 1112, 1550, 1010, 1817, 1333, 1348, 1260, 1958, 1370, 841, 1240, 1100, 954, 1079, 1131, 1489, 1347, 1957, 1191, 1391, 877, 1262, 1954, 1024, 1514, 934, 1232, 1388, 1531, 1925, 1710, 1108, 1512, 1966, 937, 1970, 1302, 1975, 1805, 1279, 1020, 1723, 1543, 959, 1286, 1380, 1326, 2301, 1880, 3509, 1460, 1048, 2219, 1361, 1603, 883, 1225, 1416, 1398, 928, 2055, 1962, 1104, 1551, 1580, 1745, 2187, 1707, 1233, 2184, 1628, 1804, 2062, 1472, 2486, 1267, 1563, 1407, 2035, 3785, 1440, 1394, 1405, 1640, 1616, 1246, 1556, 1868]\n",
            "campaign    [1, 2, 3, 4, 5, 6, 7, 8, 9, 10, 11, 12, 13, 19, 18, 23, 14, 22, 25, 16, 17, 15, 20, 56, 39, 35, 42, 28, 26, 27, 32, 21, 24, 29, 31, 30, 41, 37, 40, 33, 34, 43]\n",
            "pdays    [999, 6, 4, 3, 5, 1, 0, 10, 7, 8, 9, 11, 2, 12, 13, 14, 15, 16, 21, 17, 18, 22, 25, 26, 19, 27, 20]\n",
            "previous    [0, 1, 2, 3, 4, 5, 6, 7]\n",
            "poutcome    ['nonexistent', 'failure', 'success']\n",
            "emp.var.rate    [1.1, 1.4, -0.1, -0.2, -1.8, -2.9, -3.4, -3.0, -1.7, -1.1]\n",
            "cons.price.idx    [93.994, 94.465, 93.918, 93.444, 93.798, 93.2, 92.756, 92.843, 93.075, 92.893, 92.963, 92.469, 92.201, 92.379, 92.431, 92.649, 92.713, 93.369, 93.749, 93.876, 94.055, 94.215, 94.027, 94.199, 94.601, 94.767]\n",
            "cons.conf.idx    [-36.4, -41.8, -42.7, -36.1, -40.4, -42.0, -45.9, -50.0, -47.1, -46.2, -40.8, -33.6, -31.4, -29.8, -26.9, -30.1, -33.0, -34.8, -34.6, -40.0, -39.8, -40.3, -38.3, -37.5, -49.5, -50.8]\n",
            "euribor3m    [4.857, 4.856, 4.855, 4.859, 4.86, 4.858, 4.864, 4.865, 4.866, 4.967, 4.961, 4.959, 4.958, 4.96, 4.962, 4.955, 4.947, 4.956, 4.966, 4.963, 4.957, 4.968, 4.97, 4.965, 4.964, 5.045, 5.0, 4.936, 4.921, 4.918, 4.912, 4.827, 4.794, 4.76, 4.733, 4.7, 4.663, 4.592, 4.474, 4.406, 4.343, 4.286, 4.245, 4.223, 4.191, 4.153, 4.12, 4.076, 4.021, 3.901, 3.879, 3.853, 3.816, 3.743, 3.669, 3.563, 3.488, 3.428, 3.329, 3.282, 3.053, 1.811, 1.799, 1.778, 1.757, 1.726, 1.703, 1.687, 1.663, 1.65, 1.64, 1.629, 1.614, 1.602, 1.584, 1.574, 1.56, 1.556, 1.548, 1.538, 1.531, 1.52, 1.51, 1.498, 1.483, 1.479, 1.466, 1.453, 1.445, 1.435, 1.423, 1.415, 1.41, 1.405, 1.406, 1.4, 1.392, 1.384, 1.372, 1.365, 1.354, 1.344, 1.334, 1.327, 1.313, 1.299, 1.291, 1.281, 1.266, 1.25, 1.244, 1.259, 1.264, 1.27, 1.262, 1.26, 1.268, 1.286, 1.252, 1.235, 1.224, 1.215, 1.206, 1.099, 1.085, 1.072, 1.059, 1.048, 1.044, 1.029, 1.018, 1.007, 0.996, 0.979, 0.969, 0.944, 0.937, 0.933, 0.927, 0.921, 0.914, 0.908, 0.903, 0.899, 0.884, 0.883, 0.881, 0.879, 0.873, 0.869, 0.861, 0.859, 0.854, 0.851, 0.849, 0.843, 0.838, 0.834, 0.829, 0.825, 0.821, 0.819, 0.813, 0.809, 0.803, 0.797, 0.788, 0.781, 0.778, 0.773, 0.771, 0.77, 0.768, 0.766, 0.762, 0.755, 0.749, 0.743, 0.741, 0.739, 0.75, 0.753, 0.754, 0.752, 0.744, 0.74, 0.742, 0.737, 0.735, 0.733, 0.73, 0.731, 0.728, 0.724, 0.722, 0.72, 0.719, 0.716, 0.715, 0.714, 0.718, 0.721, 0.717, 0.712, 0.71, 0.709, 0.708, 0.706, 0.707, 0.7, 0.655, 0.654, 0.653, 0.652, 0.651, 0.65, 0.649, 0.646, 0.644, 0.643, 0.639, 0.637, 0.635, 0.636, 0.634, 0.638, 0.64, 0.642, 0.645, 0.659, 0.663, 0.668, 0.672, 0.677, 0.682, 0.683, 0.684, 0.685, 0.688, 0.69, 0.692, 0.695, 0.697, 0.699, 0.701, 0.702, 0.704, 0.711, 0.713, 0.723, 0.727, 0.729, 0.732, 0.748, 0.761, 0.767, 0.782, 0.79, 0.793, 0.802, 0.81, 0.822, 0.827, 0.835, 0.84, 0.846, 0.87, 0.876, 0.885, 0.889, 0.893, 0.896, 0.898, 0.9, 0.904, 0.905, 0.895, 0.894, 0.891, 0.89, 0.888, 0.886, 0.882, 0.88, 0.878, 0.877, 0.942, 0.953, 0.956, 0.959, 0.965, 0.972, 0.977, 0.982, 0.985, 0.987, 0.993, 1.0, 1.008, 1.016, 1.025, 1.032, 1.037, 1.043, 1.045, 1.047, 1.05, 1.049, 1.046, 1.041, 1.04, 1.039, 1.035, 1.03, 1.031, 1.028]\n",
            "nr.employed    [5191.0, 5228.1, 5195.8, 5176.3, 5099.1, 5076.2, 5017.5, 5023.5, 5008.7, 4991.6, 4963.6]\n",
            "y    ['no', 'yes']\n"
          ]
        }
      ],
      "source": [
        "cate_col = [i for i in data.columns ]\n",
        "for i in cate_col:\n",
        "  unique = data[i].unique().tolist()\n",
        "  print(i ,\"  \", unique)"
      ]
    },
    {
      "cell_type": "code",
      "execution_count": null,
      "metadata": {
        "id": "WWpFioUR13Tl"
      },
      "outputs": [],
      "source": [
        "data = data.drop([\"month\",\"day_of_week\",\"contact\"],axis=1)"
      ]
    },
    {
      "cell_type": "markdown",
      "metadata": {
        "id": "ZYLJakyYFD8H"
      },
      "source": [
        "## *- Xử Lý các cột chứa giá trị 'unknown' và encode*\n",
        "\n"
      ]
    },
    {
      "cell_type": "code",
      "execution_count": null,
      "metadata": {
        "colab": {
          "base_uri": "https://localhost:8080/"
        },
        "id": "2fp04hglDQVe",
        "outputId": "8092caf3-4d45-4890-a943-e2ae80cc9d80"
      },
      "outputs": [
        {
          "output_type": "execute_result",
          "data": {
            "text/plain": [
              "['job', 'marital', 'education', 'default', 'housing', 'loan']"
            ]
          },
          "metadata": {},
          "execution_count": 8
        }
      ],
      "source": [
        "# Các cột chứa giá trị 'unknown'\n",
        "categoricals = []\n",
        "for i in data.columns:\n",
        "  if data[data[i]=='unknown'].shape[0] > 0:\n",
        "    categoricals.append(i)\n",
        "categoricals"
      ]
    },
    {
      "cell_type": "code",
      "execution_count": null,
      "metadata": {
        "colab": {
          "base_uri": "https://localhost:8080/"
        },
        "id": "f0sIZVtO2rKf",
        "outputId": "70113246-8806-4792-e696-c8d6a7b3fbbd"
      },
      "outputs": [
        {
          "output_type": "execute_result",
          "data": {
            "text/plain": [
              "Index(['age', 'duration', 'campaign', 'pdays', 'previous', 'emp.var.rate',\n",
              "       'cons.price.idx', 'cons.conf.idx', 'euribor3m', 'nr.employed'],\n",
              "      dtype='object')"
            ]
          },
          "metadata": {},
          "execution_count": 9
        }
      ],
      "source": [
        "# Các cột chứa giá trị numerical\n",
        "numerical_cols = data.select_dtypes(include=['int64', 'float64']).columns\n",
        "numerical_cols"
      ]
    },
    {
      "cell_type": "code",
      "execution_count": null,
      "metadata": {
        "colab": {
          "base_uri": "https://localhost:8080/"
        },
        "id": "IhFSrS7y513U",
        "outputId": "1b08c69a-4057-4985-9474-e20ad6b12896"
      },
      "outputs": [
        {
          "output_type": "execute_result",
          "data": {
            "text/plain": [
              "   age        job  marital    education  default housing loan  duration  \\\n",
              "0   56  housemaid  married     basic.4y       no      no   no       261   \n",
              "1   57   services  married  high.school  unknown      no   no       149   \n",
              "2   37   services  married  high.school       no     yes   no       226   \n",
              "3   40     admin.  married     basic.6y       no      no   no       151   \n",
              "4   56   services  married  high.school       no      no  yes       307   \n",
              "\n",
              "   campaign  pdays  previous     poutcome  emp.var.rate  cons.price.idx  \\\n",
              "0         1    999         0  nonexistent           1.1          93.994   \n",
              "1         1    999         0  nonexistent           1.1          93.994   \n",
              "2         1    999         0  nonexistent           1.1          93.994   \n",
              "3         1    999         0  nonexistent           1.1          93.994   \n",
              "4         1    999         0  nonexistent           1.1          93.994   \n",
              "\n",
              "   cons.conf.idx  euribor3m  nr.employed   y  \n",
              "0          -36.4      4.857       5191.0  no  \n",
              "1          -36.4      4.857       5191.0  no  \n",
              "2          -36.4      4.857       5191.0  no  \n",
              "3          -36.4      4.857       5191.0  no  \n",
              "4          -36.4      4.857       5191.0  no  "
            ],
            "text/html": [
              "\n",
              "  <div id=\"df-94ca6277-34fd-4aa6-ac8a-6fcf725564de\">\n",
              "    <div class=\"colab-df-container\">\n",
              "      <div>\n",
              "<style scoped>\n",
              "    .dataframe tbody tr th:only-of-type {\n",
              "        vertical-align: middle;\n",
              "    }\n",
              "\n",
              "    .dataframe tbody tr th {\n",
              "        vertical-align: top;\n",
              "    }\n",
              "\n",
              "    .dataframe thead th {\n",
              "        text-align: right;\n",
              "    }\n",
              "</style>\n",
              "<table border=\"1\" class=\"dataframe\">\n",
              "  <thead>\n",
              "    <tr style=\"text-align: right;\">\n",
              "      <th></th>\n",
              "      <th>age</th>\n",
              "      <th>job</th>\n",
              "      <th>marital</th>\n",
              "      <th>education</th>\n",
              "      <th>default</th>\n",
              "      <th>housing</th>\n",
              "      <th>loan</th>\n",
              "      <th>duration</th>\n",
              "      <th>campaign</th>\n",
              "      <th>pdays</th>\n",
              "      <th>previous</th>\n",
              "      <th>poutcome</th>\n",
              "      <th>emp.var.rate</th>\n",
              "      <th>cons.price.idx</th>\n",
              "      <th>cons.conf.idx</th>\n",
              "      <th>euribor3m</th>\n",
              "      <th>nr.employed</th>\n",
              "      <th>y</th>\n",
              "    </tr>\n",
              "  </thead>\n",
              "  <tbody>\n",
              "    <tr>\n",
              "      <th>0</th>\n",
              "      <td>56</td>\n",
              "      <td>housemaid</td>\n",
              "      <td>married</td>\n",
              "      <td>basic.4y</td>\n",
              "      <td>no</td>\n",
              "      <td>no</td>\n",
              "      <td>no</td>\n",
              "      <td>261</td>\n",
              "      <td>1</td>\n",
              "      <td>999</td>\n",
              "      <td>0</td>\n",
              "      <td>nonexistent</td>\n",
              "      <td>1.1</td>\n",
              "      <td>93.994</td>\n",
              "      <td>-36.4</td>\n",
              "      <td>4.857</td>\n",
              "      <td>5191.0</td>\n",
              "      <td>no</td>\n",
              "    </tr>\n",
              "    <tr>\n",
              "      <th>1</th>\n",
              "      <td>57</td>\n",
              "      <td>services</td>\n",
              "      <td>married</td>\n",
              "      <td>high.school</td>\n",
              "      <td>unknown</td>\n",
              "      <td>no</td>\n",
              "      <td>no</td>\n",
              "      <td>149</td>\n",
              "      <td>1</td>\n",
              "      <td>999</td>\n",
              "      <td>0</td>\n",
              "      <td>nonexistent</td>\n",
              "      <td>1.1</td>\n",
              "      <td>93.994</td>\n",
              "      <td>-36.4</td>\n",
              "      <td>4.857</td>\n",
              "      <td>5191.0</td>\n",
              "      <td>no</td>\n",
              "    </tr>\n",
              "    <tr>\n",
              "      <th>2</th>\n",
              "      <td>37</td>\n",
              "      <td>services</td>\n",
              "      <td>married</td>\n",
              "      <td>high.school</td>\n",
              "      <td>no</td>\n",
              "      <td>yes</td>\n",
              "      <td>no</td>\n",
              "      <td>226</td>\n",
              "      <td>1</td>\n",
              "      <td>999</td>\n",
              "      <td>0</td>\n",
              "      <td>nonexistent</td>\n",
              "      <td>1.1</td>\n",
              "      <td>93.994</td>\n",
              "      <td>-36.4</td>\n",
              "      <td>4.857</td>\n",
              "      <td>5191.0</td>\n",
              "      <td>no</td>\n",
              "    </tr>\n",
              "    <tr>\n",
              "      <th>3</th>\n",
              "      <td>40</td>\n",
              "      <td>admin.</td>\n",
              "      <td>married</td>\n",
              "      <td>basic.6y</td>\n",
              "      <td>no</td>\n",
              "      <td>no</td>\n",
              "      <td>no</td>\n",
              "      <td>151</td>\n",
              "      <td>1</td>\n",
              "      <td>999</td>\n",
              "      <td>0</td>\n",
              "      <td>nonexistent</td>\n",
              "      <td>1.1</td>\n",
              "      <td>93.994</td>\n",
              "      <td>-36.4</td>\n",
              "      <td>4.857</td>\n",
              "      <td>5191.0</td>\n",
              "      <td>no</td>\n",
              "    </tr>\n",
              "    <tr>\n",
              "      <th>4</th>\n",
              "      <td>56</td>\n",
              "      <td>services</td>\n",
              "      <td>married</td>\n",
              "      <td>high.school</td>\n",
              "      <td>no</td>\n",
              "      <td>no</td>\n",
              "      <td>yes</td>\n",
              "      <td>307</td>\n",
              "      <td>1</td>\n",
              "      <td>999</td>\n",
              "      <td>0</td>\n",
              "      <td>nonexistent</td>\n",
              "      <td>1.1</td>\n",
              "      <td>93.994</td>\n",
              "      <td>-36.4</td>\n",
              "      <td>4.857</td>\n",
              "      <td>5191.0</td>\n",
              "      <td>no</td>\n",
              "    </tr>\n",
              "  </tbody>\n",
              "</table>\n",
              "</div>\n",
              "      <button class=\"colab-df-convert\" onclick=\"convertToInteractive('df-94ca6277-34fd-4aa6-ac8a-6fcf725564de')\"\n",
              "              title=\"Convert this dataframe to an interactive table.\"\n",
              "              style=\"display:none;\">\n",
              "        \n",
              "  <svg xmlns=\"http://www.w3.org/2000/svg\" height=\"24px\"viewBox=\"0 0 24 24\"\n",
              "       width=\"24px\">\n",
              "    <path d=\"M0 0h24v24H0V0z\" fill=\"none\"/>\n",
              "    <path d=\"M18.56 5.44l.94 2.06.94-2.06 2.06-.94-2.06-.94-.94-2.06-.94 2.06-2.06.94zm-11 1L8.5 8.5l.94-2.06 2.06-.94-2.06-.94L8.5 2.5l-.94 2.06-2.06.94zm10 10l.94 2.06.94-2.06 2.06-.94-2.06-.94-.94-2.06-.94 2.06-2.06.94z\"/><path d=\"M17.41 7.96l-1.37-1.37c-.4-.4-.92-.59-1.43-.59-.52 0-1.04.2-1.43.59L10.3 9.45l-7.72 7.72c-.78.78-.78 2.05 0 2.83L4 21.41c.39.39.9.59 1.41.59.51 0 1.02-.2 1.41-.59l7.78-7.78 2.81-2.81c.8-.78.8-2.07 0-2.86zM5.41 20L4 18.59l7.72-7.72 1.47 1.35L5.41 20z\"/>\n",
              "  </svg>\n",
              "      </button>\n",
              "      \n",
              "  <style>\n",
              "    .colab-df-container {\n",
              "      display:flex;\n",
              "      flex-wrap:wrap;\n",
              "      gap: 12px;\n",
              "    }\n",
              "\n",
              "    .colab-df-convert {\n",
              "      background-color: #E8F0FE;\n",
              "      border: none;\n",
              "      border-radius: 50%;\n",
              "      cursor: pointer;\n",
              "      display: none;\n",
              "      fill: #1967D2;\n",
              "      height: 32px;\n",
              "      padding: 0 0 0 0;\n",
              "      width: 32px;\n",
              "    }\n",
              "\n",
              "    .colab-df-convert:hover {\n",
              "      background-color: #E2EBFA;\n",
              "      box-shadow: 0px 1px 2px rgba(60, 64, 67, 0.3), 0px 1px 3px 1px rgba(60, 64, 67, 0.15);\n",
              "      fill: #174EA6;\n",
              "    }\n",
              "\n",
              "    [theme=dark] .colab-df-convert {\n",
              "      background-color: #3B4455;\n",
              "      fill: #D2E3FC;\n",
              "    }\n",
              "\n",
              "    [theme=dark] .colab-df-convert:hover {\n",
              "      background-color: #434B5C;\n",
              "      box-shadow: 0px 1px 3px 1px rgba(0, 0, 0, 0.15);\n",
              "      filter: drop-shadow(0px 1px 2px rgba(0, 0, 0, 0.3));\n",
              "      fill: #FFFFFF;\n",
              "    }\n",
              "  </style>\n",
              "\n",
              "      <script>\n",
              "        const buttonEl =\n",
              "          document.querySelector('#df-94ca6277-34fd-4aa6-ac8a-6fcf725564de button.colab-df-convert');\n",
              "        buttonEl.style.display =\n",
              "          google.colab.kernel.accessAllowed ? 'block' : 'none';\n",
              "\n",
              "        async function convertToInteractive(key) {\n",
              "          const element = document.querySelector('#df-94ca6277-34fd-4aa6-ac8a-6fcf725564de');\n",
              "          const dataTable =\n",
              "            await google.colab.kernel.invokeFunction('convertToInteractive',\n",
              "                                                     [key], {});\n",
              "          if (!dataTable) return;\n",
              "\n",
              "          const docLinkHtml = 'Like what you see? Visit the ' +\n",
              "            '<a target=\"_blank\" href=https://colab.research.google.com/notebooks/data_table.ipynb>data table notebook</a>'\n",
              "            + ' to learn more about interactive tables.';\n",
              "          element.innerHTML = '';\n",
              "          dataTable['output_type'] = 'display_data';\n",
              "          await google.colab.output.renderOutput(dataTable, element);\n",
              "          const docLink = document.createElement('div');\n",
              "          docLink.innerHTML = docLinkHtml;\n",
              "          element.appendChild(docLink);\n",
              "        }\n",
              "      </script>\n",
              "    </div>\n",
              "  </div>\n",
              "  "
            ]
          },
          "metadata": {},
          "execution_count": 10
        }
      ],
      "source": [
        "data.head()"
      ]
    },
    {
      "cell_type": "code",
      "execution_count": null,
      "metadata": {
        "colab": {
          "base_uri": "https://localhost:8080/"
        },
        "id": "zgPdzAjxar9v",
        "outputId": "841b5e38-658e-4d8b-e68b-c9b48d1f7e2b"
      },
      "outputs": [
        {
          "output_type": "execute_result",
          "data": {
            "text/plain": [
              "       age  duration  campaign  pdays  previous     poutcome  emp.var.rate  \\\n",
              "0       56       261         1    999         0  nonexistent           1.1   \n",
              "1       57       149         1    999         0  nonexistent           1.1   \n",
              "2       37       226         1    999         0  nonexistent           1.1   \n",
              "3       40       151         1    999         0  nonexistent           1.1   \n",
              "4       56       307         1    999         0  nonexistent           1.1   \n",
              "...    ...       ...       ...    ...       ...          ...           ...   \n",
              "41183   73       334         1    999         0  nonexistent          -1.1   \n",
              "41184   46       383         1    999         0  nonexistent          -1.1   \n",
              "41185   56       189         2    999         0  nonexistent          -1.1   \n",
              "41186   44       442         1    999         0  nonexistent          -1.1   \n",
              "41187   74       239         3    999         1      failure          -1.1   \n",
              "\n",
              "       cons.price.idx  cons.conf.idx  euribor3m  nr.employed    y  \\\n",
              "0              93.994          -36.4      4.857       5191.0   no   \n",
              "1              93.994          -36.4      4.857       5191.0   no   \n",
              "2              93.994          -36.4      4.857       5191.0   no   \n",
              "3              93.994          -36.4      4.857       5191.0   no   \n",
              "4              93.994          -36.4      4.857       5191.0   no   \n",
              "...               ...            ...        ...          ...  ...   \n",
              "41183          94.767          -50.8      1.028       4963.6  yes   \n",
              "41184          94.767          -50.8      1.028       4963.6   no   \n",
              "41185          94.767          -50.8      1.028       4963.6   no   \n",
              "41186          94.767          -50.8      1.028       4963.6  yes   \n",
              "41187          94.767          -50.8      1.028       4963.6   no   \n",
              "\n",
              "       job_encoded  marital_encoded  education_encoded  default_encoded  \\\n",
              "0              3.0              1.0                0.0              0.0   \n",
              "1              7.0              1.0                3.0              NaN   \n",
              "2              7.0              1.0                3.0              0.0   \n",
              "3              0.0              1.0                1.0              0.0   \n",
              "4              7.0              1.0                3.0              0.0   \n",
              "...            ...              ...                ...              ...   \n",
              "41183          5.0              1.0                5.0              0.0   \n",
              "41184          1.0              1.0                5.0              0.0   \n",
              "41185          5.0              1.0                6.0              0.0   \n",
              "41186          9.0              1.0                5.0              0.0   \n",
              "41187          5.0              1.0                5.0              0.0   \n",
              "\n",
              "       housing_encoded  loan_encoded  \n",
              "0                  0.0           0.0  \n",
              "1                  0.0           0.0  \n",
              "2                  2.0           0.0  \n",
              "3                  0.0           0.0  \n",
              "4                  0.0           2.0  \n",
              "...                ...           ...  \n",
              "41183              2.0           0.0  \n",
              "41184              0.0           0.0  \n",
              "41185              2.0           0.0  \n",
              "41186              0.0           0.0  \n",
              "41187              2.0           0.0  \n",
              "\n",
              "[41188 rows x 18 columns]"
            ],
            "text/html": [
              "\n",
              "  <div id=\"df-4636d163-7d37-4e39-832c-5c16807035d8\">\n",
              "    <div class=\"colab-df-container\">\n",
              "      <div>\n",
              "<style scoped>\n",
              "    .dataframe tbody tr th:only-of-type {\n",
              "        vertical-align: middle;\n",
              "    }\n",
              "\n",
              "    .dataframe tbody tr th {\n",
              "        vertical-align: top;\n",
              "    }\n",
              "\n",
              "    .dataframe thead th {\n",
              "        text-align: right;\n",
              "    }\n",
              "</style>\n",
              "<table border=\"1\" class=\"dataframe\">\n",
              "  <thead>\n",
              "    <tr style=\"text-align: right;\">\n",
              "      <th></th>\n",
              "      <th>age</th>\n",
              "      <th>duration</th>\n",
              "      <th>campaign</th>\n",
              "      <th>pdays</th>\n",
              "      <th>previous</th>\n",
              "      <th>poutcome</th>\n",
              "      <th>emp.var.rate</th>\n",
              "      <th>cons.price.idx</th>\n",
              "      <th>cons.conf.idx</th>\n",
              "      <th>euribor3m</th>\n",
              "      <th>nr.employed</th>\n",
              "      <th>y</th>\n",
              "      <th>job_encoded</th>\n",
              "      <th>marital_encoded</th>\n",
              "      <th>education_encoded</th>\n",
              "      <th>default_encoded</th>\n",
              "      <th>housing_encoded</th>\n",
              "      <th>loan_encoded</th>\n",
              "    </tr>\n",
              "  </thead>\n",
              "  <tbody>\n",
              "    <tr>\n",
              "      <th>0</th>\n",
              "      <td>56</td>\n",
              "      <td>261</td>\n",
              "      <td>1</td>\n",
              "      <td>999</td>\n",
              "      <td>0</td>\n",
              "      <td>nonexistent</td>\n",
              "      <td>1.1</td>\n",
              "      <td>93.994</td>\n",
              "      <td>-36.4</td>\n",
              "      <td>4.857</td>\n",
              "      <td>5191.0</td>\n",
              "      <td>no</td>\n",
              "      <td>3.0</td>\n",
              "      <td>1.0</td>\n",
              "      <td>0.0</td>\n",
              "      <td>0.0</td>\n",
              "      <td>0.0</td>\n",
              "      <td>0.0</td>\n",
              "    </tr>\n",
              "    <tr>\n",
              "      <th>1</th>\n",
              "      <td>57</td>\n",
              "      <td>149</td>\n",
              "      <td>1</td>\n",
              "      <td>999</td>\n",
              "      <td>0</td>\n",
              "      <td>nonexistent</td>\n",
              "      <td>1.1</td>\n",
              "      <td>93.994</td>\n",
              "      <td>-36.4</td>\n",
              "      <td>4.857</td>\n",
              "      <td>5191.0</td>\n",
              "      <td>no</td>\n",
              "      <td>7.0</td>\n",
              "      <td>1.0</td>\n",
              "      <td>3.0</td>\n",
              "      <td>NaN</td>\n",
              "      <td>0.0</td>\n",
              "      <td>0.0</td>\n",
              "    </tr>\n",
              "    <tr>\n",
              "      <th>2</th>\n",
              "      <td>37</td>\n",
              "      <td>226</td>\n",
              "      <td>1</td>\n",
              "      <td>999</td>\n",
              "      <td>0</td>\n",
              "      <td>nonexistent</td>\n",
              "      <td>1.1</td>\n",
              "      <td>93.994</td>\n",
              "      <td>-36.4</td>\n",
              "      <td>4.857</td>\n",
              "      <td>5191.0</td>\n",
              "      <td>no</td>\n",
              "      <td>7.0</td>\n",
              "      <td>1.0</td>\n",
              "      <td>3.0</td>\n",
              "      <td>0.0</td>\n",
              "      <td>2.0</td>\n",
              "      <td>0.0</td>\n",
              "    </tr>\n",
              "    <tr>\n",
              "      <th>3</th>\n",
              "      <td>40</td>\n",
              "      <td>151</td>\n",
              "      <td>1</td>\n",
              "      <td>999</td>\n",
              "      <td>0</td>\n",
              "      <td>nonexistent</td>\n",
              "      <td>1.1</td>\n",
              "      <td>93.994</td>\n",
              "      <td>-36.4</td>\n",
              "      <td>4.857</td>\n",
              "      <td>5191.0</td>\n",
              "      <td>no</td>\n",
              "      <td>0.0</td>\n",
              "      <td>1.0</td>\n",
              "      <td>1.0</td>\n",
              "      <td>0.0</td>\n",
              "      <td>0.0</td>\n",
              "      <td>0.0</td>\n",
              "    </tr>\n",
              "    <tr>\n",
              "      <th>4</th>\n",
              "      <td>56</td>\n",
              "      <td>307</td>\n",
              "      <td>1</td>\n",
              "      <td>999</td>\n",
              "      <td>0</td>\n",
              "      <td>nonexistent</td>\n",
              "      <td>1.1</td>\n",
              "      <td>93.994</td>\n",
              "      <td>-36.4</td>\n",
              "      <td>4.857</td>\n",
              "      <td>5191.0</td>\n",
              "      <td>no</td>\n",
              "      <td>7.0</td>\n",
              "      <td>1.0</td>\n",
              "      <td>3.0</td>\n",
              "      <td>0.0</td>\n",
              "      <td>0.0</td>\n",
              "      <td>2.0</td>\n",
              "    </tr>\n",
              "    <tr>\n",
              "      <th>...</th>\n",
              "      <td>...</td>\n",
              "      <td>...</td>\n",
              "      <td>...</td>\n",
              "      <td>...</td>\n",
              "      <td>...</td>\n",
              "      <td>...</td>\n",
              "      <td>...</td>\n",
              "      <td>...</td>\n",
              "      <td>...</td>\n",
              "      <td>...</td>\n",
              "      <td>...</td>\n",
              "      <td>...</td>\n",
              "      <td>...</td>\n",
              "      <td>...</td>\n",
              "      <td>...</td>\n",
              "      <td>...</td>\n",
              "      <td>...</td>\n",
              "      <td>...</td>\n",
              "    </tr>\n",
              "    <tr>\n",
              "      <th>41183</th>\n",
              "      <td>73</td>\n",
              "      <td>334</td>\n",
              "      <td>1</td>\n",
              "      <td>999</td>\n",
              "      <td>0</td>\n",
              "      <td>nonexistent</td>\n",
              "      <td>-1.1</td>\n",
              "      <td>94.767</td>\n",
              "      <td>-50.8</td>\n",
              "      <td>1.028</td>\n",
              "      <td>4963.6</td>\n",
              "      <td>yes</td>\n",
              "      <td>5.0</td>\n",
              "      <td>1.0</td>\n",
              "      <td>5.0</td>\n",
              "      <td>0.0</td>\n",
              "      <td>2.0</td>\n",
              "      <td>0.0</td>\n",
              "    </tr>\n",
              "    <tr>\n",
              "      <th>41184</th>\n",
              "      <td>46</td>\n",
              "      <td>383</td>\n",
              "      <td>1</td>\n",
              "      <td>999</td>\n",
              "      <td>0</td>\n",
              "      <td>nonexistent</td>\n",
              "      <td>-1.1</td>\n",
              "      <td>94.767</td>\n",
              "      <td>-50.8</td>\n",
              "      <td>1.028</td>\n",
              "      <td>4963.6</td>\n",
              "      <td>no</td>\n",
              "      <td>1.0</td>\n",
              "      <td>1.0</td>\n",
              "      <td>5.0</td>\n",
              "      <td>0.0</td>\n",
              "      <td>0.0</td>\n",
              "      <td>0.0</td>\n",
              "    </tr>\n",
              "    <tr>\n",
              "      <th>41185</th>\n",
              "      <td>56</td>\n",
              "      <td>189</td>\n",
              "      <td>2</td>\n",
              "      <td>999</td>\n",
              "      <td>0</td>\n",
              "      <td>nonexistent</td>\n",
              "      <td>-1.1</td>\n",
              "      <td>94.767</td>\n",
              "      <td>-50.8</td>\n",
              "      <td>1.028</td>\n",
              "      <td>4963.6</td>\n",
              "      <td>no</td>\n",
              "      <td>5.0</td>\n",
              "      <td>1.0</td>\n",
              "      <td>6.0</td>\n",
              "      <td>0.0</td>\n",
              "      <td>2.0</td>\n",
              "      <td>0.0</td>\n",
              "    </tr>\n",
              "    <tr>\n",
              "      <th>41186</th>\n",
              "      <td>44</td>\n",
              "      <td>442</td>\n",
              "      <td>1</td>\n",
              "      <td>999</td>\n",
              "      <td>0</td>\n",
              "      <td>nonexistent</td>\n",
              "      <td>-1.1</td>\n",
              "      <td>94.767</td>\n",
              "      <td>-50.8</td>\n",
              "      <td>1.028</td>\n",
              "      <td>4963.6</td>\n",
              "      <td>yes</td>\n",
              "      <td>9.0</td>\n",
              "      <td>1.0</td>\n",
              "      <td>5.0</td>\n",
              "      <td>0.0</td>\n",
              "      <td>0.0</td>\n",
              "      <td>0.0</td>\n",
              "    </tr>\n",
              "    <tr>\n",
              "      <th>41187</th>\n",
              "      <td>74</td>\n",
              "      <td>239</td>\n",
              "      <td>3</td>\n",
              "      <td>999</td>\n",
              "      <td>1</td>\n",
              "      <td>failure</td>\n",
              "      <td>-1.1</td>\n",
              "      <td>94.767</td>\n",
              "      <td>-50.8</td>\n",
              "      <td>1.028</td>\n",
              "      <td>4963.6</td>\n",
              "      <td>no</td>\n",
              "      <td>5.0</td>\n",
              "      <td>1.0</td>\n",
              "      <td>5.0</td>\n",
              "      <td>0.0</td>\n",
              "      <td>2.0</td>\n",
              "      <td>0.0</td>\n",
              "    </tr>\n",
              "  </tbody>\n",
              "</table>\n",
              "<p>41188 rows × 18 columns</p>\n",
              "</div>\n",
              "      <button class=\"colab-df-convert\" onclick=\"convertToInteractive('df-4636d163-7d37-4e39-832c-5c16807035d8')\"\n",
              "              title=\"Convert this dataframe to an interactive table.\"\n",
              "              style=\"display:none;\">\n",
              "        \n",
              "  <svg xmlns=\"http://www.w3.org/2000/svg\" height=\"24px\"viewBox=\"0 0 24 24\"\n",
              "       width=\"24px\">\n",
              "    <path d=\"M0 0h24v24H0V0z\" fill=\"none\"/>\n",
              "    <path d=\"M18.56 5.44l.94 2.06.94-2.06 2.06-.94-2.06-.94-.94-2.06-.94 2.06-2.06.94zm-11 1L8.5 8.5l.94-2.06 2.06-.94-2.06-.94L8.5 2.5l-.94 2.06-2.06.94zm10 10l.94 2.06.94-2.06 2.06-.94-2.06-.94-.94-2.06-.94 2.06-2.06.94z\"/><path d=\"M17.41 7.96l-1.37-1.37c-.4-.4-.92-.59-1.43-.59-.52 0-1.04.2-1.43.59L10.3 9.45l-7.72 7.72c-.78.78-.78 2.05 0 2.83L4 21.41c.39.39.9.59 1.41.59.51 0 1.02-.2 1.41-.59l7.78-7.78 2.81-2.81c.8-.78.8-2.07 0-2.86zM5.41 20L4 18.59l7.72-7.72 1.47 1.35L5.41 20z\"/>\n",
              "  </svg>\n",
              "      </button>\n",
              "      \n",
              "  <style>\n",
              "    .colab-df-container {\n",
              "      display:flex;\n",
              "      flex-wrap:wrap;\n",
              "      gap: 12px;\n",
              "    }\n",
              "\n",
              "    .colab-df-convert {\n",
              "      background-color: #E8F0FE;\n",
              "      border: none;\n",
              "      border-radius: 50%;\n",
              "      cursor: pointer;\n",
              "      display: none;\n",
              "      fill: #1967D2;\n",
              "      height: 32px;\n",
              "      padding: 0 0 0 0;\n",
              "      width: 32px;\n",
              "    }\n",
              "\n",
              "    .colab-df-convert:hover {\n",
              "      background-color: #E2EBFA;\n",
              "      box-shadow: 0px 1px 2px rgba(60, 64, 67, 0.3), 0px 1px 3px 1px rgba(60, 64, 67, 0.15);\n",
              "      fill: #174EA6;\n",
              "    }\n",
              "\n",
              "    [theme=dark] .colab-df-convert {\n",
              "      background-color: #3B4455;\n",
              "      fill: #D2E3FC;\n",
              "    }\n",
              "\n",
              "    [theme=dark] .colab-df-convert:hover {\n",
              "      background-color: #434B5C;\n",
              "      box-shadow: 0px 1px 3px 1px rgba(0, 0, 0, 0.15);\n",
              "      filter: drop-shadow(0px 1px 2px rgba(0, 0, 0, 0.3));\n",
              "      fill: #FFFFFF;\n",
              "    }\n",
              "  </style>\n",
              "\n",
              "      <script>\n",
              "        const buttonEl =\n",
              "          document.querySelector('#df-4636d163-7d37-4e39-832c-5c16807035d8 button.colab-df-convert');\n",
              "        buttonEl.style.display =\n",
              "          google.colab.kernel.accessAllowed ? 'block' : 'none';\n",
              "\n",
              "        async function convertToInteractive(key) {\n",
              "          const element = document.querySelector('#df-4636d163-7d37-4e39-832c-5c16807035d8');\n",
              "          const dataTable =\n",
              "            await google.colab.kernel.invokeFunction('convertToInteractive',\n",
              "                                                     [key], {});\n",
              "          if (!dataTable) return;\n",
              "\n",
              "          const docLinkHtml = 'Like what you see? Visit the ' +\n",
              "            '<a target=\"_blank\" href=https://colab.research.google.com/notebooks/data_table.ipynb>data table notebook</a>'\n",
              "            + ' to learn more about interactive tables.';\n",
              "          element.innerHTML = '';\n",
              "          dataTable['output_type'] = 'display_data';\n",
              "          await google.colab.output.renderOutput(dataTable, element);\n",
              "          const docLink = document.createElement('div');\n",
              "          docLink.innerHTML = docLinkHtml;\n",
              "          element.appendChild(docLink);\n",
              "        }\n",
              "      </script>\n",
              "    </div>\n",
              "  </div>\n",
              "  "
            ]
          },
          "metadata": {},
          "execution_count": 11
        }
      ],
      "source": [
        "# Encoder các cột categorical\n",
        "d = data.copy()\n",
        "le = LabelEncoder()\n",
        "for col in categoricals:\n",
        "    le.fit(d[col])\n",
        "    d[col+'_encoded'] = le.transform(d[col])\n",
        "    d.loc[d[col]=='unknown', col+'_encoded'] = np.nan\n",
        "\n",
        "d = d.drop(columns = categoricals, axis=1)\n",
        "d"
      ]
    },
    {
      "cell_type": "code",
      "execution_count": null,
      "metadata": {
        "colab": {
          "base_uri": "https://localhost:8080/"
        },
        "id": "diDldt5tiKYE",
        "outputId": "2da06603-62ac-4693-850e-80373998d87e"
      },
      "outputs": [
        {
          "output_type": "execute_result",
          "data": {
            "text/plain": [
              "default_encoded      8597\n",
              "education_encoded    1731\n",
              "loan_encoded          990\n",
              "housing_encoded       990\n",
              "job_encoded           330\n",
              "marital_encoded        80\n",
              "duration                0\n",
              "y                       0\n",
              "nr.employed             0\n",
              "age                     0\n",
              "cons.conf.idx           0\n",
              "cons.price.idx          0\n",
              "emp.var.rate            0\n",
              "poutcome                0\n",
              "previous                0\n",
              "pdays                   0\n",
              "campaign                0\n",
              "euribor3m               0\n",
              "dtype: int64"
            ]
          },
          "metadata": {},
          "execution_count": 12
        }
      ],
      "source": [
        "# Kiểm tra một lần nữa các cột chứa dữ liệu bị thiếu\n",
        "d.isna().sum().sort_values(ascending = False)"
      ]
    },
    {
      "cell_type": "code",
      "execution_count": null,
      "metadata": {
        "colab": {
          "base_uri": "https://localhost:8080/"
        },
        "id": "6vcD8PofeEb-",
        "outputId": "09506b26-bf13-4c66-ebb1-58e464186659"
      },
      "outputs": [
        {
          "output_type": "stream",
          "name": "stdout",
          "text": [
            "<class 'pandas.core.frame.DataFrame'>\n",
            "RangeIndex: 41188 entries, 0 to 41187\n",
            "Data columns (total 18 columns):\n",
            " #   Column             Non-Null Count  Dtype  \n",
            "---  ------             --------------  -----  \n",
            " 0   age                41188 non-null  int64  \n",
            " 1   duration           41188 non-null  int64  \n",
            " 2   campaign           41188 non-null  int64  \n",
            " 3   pdays              41188 non-null  int64  \n",
            " 4   previous           41188 non-null  int64  \n",
            " 5   poutcome           41188 non-null  object \n",
            " 6   emp.var.rate       41188 non-null  float64\n",
            " 7   cons.price.idx     41188 non-null  float64\n",
            " 8   cons.conf.idx      41188 non-null  float64\n",
            " 9   euribor3m          41188 non-null  float64\n",
            " 10  nr.employed        41188 non-null  float64\n",
            " 11  y                  41188 non-null  object \n",
            " 12  job_encoded        40858 non-null  float64\n",
            " 13  marital_encoded    41108 non-null  float64\n",
            " 14  education_encoded  39457 non-null  float64\n",
            " 15  default_encoded    32591 non-null  float64\n",
            " 16  housing_encoded    40198 non-null  float64\n",
            " 17  loan_encoded       40198 non-null  float64\n",
            "dtypes: float64(11), int64(5), object(2)\n",
            "memory usage: 5.7+ MB\n"
          ]
        }
      ],
      "source": [
        "d.info()"
      ]
    },
    {
      "cell_type": "code",
      "execution_count": null,
      "metadata": {
        "id": "5rtr3ovMd3Cf"
      },
      "outputs": [],
      "source": [
        "# Mã hóa dữ liệu của các biến phân loại\n",
        "from sklearn.preprocessing import OrdinalEncoder\n",
        "\n",
        "ord_enc = OrdinalEncoder()\n",
        "for i in d.columns:\n",
        "  if d[i].dtypes == 'object':\n",
        "    d[i] = ord_enc.fit_transform(d[[i]]).astype('int')"
      ]
    },
    {
      "cell_type": "code",
      "execution_count": null,
      "metadata": {
        "colab": {
          "base_uri": "https://localhost:8080/"
        },
        "id": "JR-uyWXrfGik",
        "outputId": "6a45fc2d-300d-4d63-fe72-d82cc15fe924"
      },
      "outputs": [
        {
          "output_type": "stream",
          "name": "stdout",
          "text": [
            "<class 'pandas.core.frame.DataFrame'>\n",
            "RangeIndex: 41188 entries, 0 to 41187\n",
            "Data columns (total 18 columns):\n",
            " #   Column             Non-Null Count  Dtype  \n",
            "---  ------             --------------  -----  \n",
            " 0   age                41188 non-null  int64  \n",
            " 1   duration           41188 non-null  int64  \n",
            " 2   campaign           41188 non-null  int64  \n",
            " 3   pdays              41188 non-null  int64  \n",
            " 4   previous           41188 non-null  int64  \n",
            " 5   poutcome           41188 non-null  int64  \n",
            " 6   emp.var.rate       41188 non-null  float64\n",
            " 7   cons.price.idx     41188 non-null  float64\n",
            " 8   cons.conf.idx      41188 non-null  float64\n",
            " 9   euribor3m          41188 non-null  float64\n",
            " 10  nr.employed        41188 non-null  float64\n",
            " 11  y                  41188 non-null  int64  \n",
            " 12  job_encoded        40858 non-null  float64\n",
            " 13  marital_encoded    41108 non-null  float64\n",
            " 14  education_encoded  39457 non-null  float64\n",
            " 15  default_encoded    32591 non-null  float64\n",
            " 16  housing_encoded    40198 non-null  float64\n",
            " 17  loan_encoded       40198 non-null  float64\n",
            "dtypes: float64(11), int64(7)\n",
            "memory usage: 5.7 MB\n"
          ]
        }
      ],
      "source": [
        "d.info()"
      ]
    },
    {
      "cell_type": "code",
      "execution_count": null,
      "metadata": {
        "colab": {
          "base_uri": "https://localhost:8080/"
        },
        "id": "CNXiLF_RfRv_",
        "outputId": "d5cbb6bb-626f-4bff-a842-d5ee78c828cb"
      },
      "outputs": [
        {
          "output_type": "execute_result",
          "data": {
            "text/plain": [
              "       age  duration  campaign  pdays  previous  poutcome  emp.var.rate  \\\n",
              "0       56       261         1    999         0         1           1.1   \n",
              "1       57       149         1    999         0         1           1.1   \n",
              "2       37       226         1    999         0         1           1.1   \n",
              "3       40       151         1    999         0         1           1.1   \n",
              "4       56       307         1    999         0         1           1.1   \n",
              "...    ...       ...       ...    ...       ...       ...           ...   \n",
              "41183   73       334         1    999         0         1          -1.1   \n",
              "41184   46       383         1    999         0         1          -1.1   \n",
              "41185   56       189         2    999         0         1          -1.1   \n",
              "41186   44       442         1    999         0         1          -1.1   \n",
              "41187   74       239         3    999         1         0          -1.1   \n",
              "\n",
              "       cons.price.idx  cons.conf.idx  euribor3m  nr.employed  y  job_encoded  \\\n",
              "0              93.994          -36.4      4.857       5191.0  0          3.0   \n",
              "1              93.994          -36.4      4.857       5191.0  0          7.0   \n",
              "2              93.994          -36.4      4.857       5191.0  0          7.0   \n",
              "3              93.994          -36.4      4.857       5191.0  0          0.0   \n",
              "4              93.994          -36.4      4.857       5191.0  0          7.0   \n",
              "...               ...            ...        ...          ... ..          ...   \n",
              "41183          94.767          -50.8      1.028       4963.6  1          5.0   \n",
              "41184          94.767          -50.8      1.028       4963.6  0          1.0   \n",
              "41185          94.767          -50.8      1.028       4963.6  0          5.0   \n",
              "41186          94.767          -50.8      1.028       4963.6  1          9.0   \n",
              "41187          94.767          -50.8      1.028       4963.6  0          5.0   \n",
              "\n",
              "       marital_encoded  education_encoded  default_encoded  housing_encoded  \\\n",
              "0                  1.0                0.0              0.0              0.0   \n",
              "1                  1.0                3.0              NaN              0.0   \n",
              "2                  1.0                3.0              0.0              2.0   \n",
              "3                  1.0                1.0              0.0              0.0   \n",
              "4                  1.0                3.0              0.0              0.0   \n",
              "...                ...                ...              ...              ...   \n",
              "41183              1.0                5.0              0.0              2.0   \n",
              "41184              1.0                5.0              0.0              0.0   \n",
              "41185              1.0                6.0              0.0              2.0   \n",
              "41186              1.0                5.0              0.0              0.0   \n",
              "41187              1.0                5.0              0.0              2.0   \n",
              "\n",
              "       loan_encoded  \n",
              "0               0.0  \n",
              "1               0.0  \n",
              "2               0.0  \n",
              "3               0.0  \n",
              "4               2.0  \n",
              "...             ...  \n",
              "41183           0.0  \n",
              "41184           0.0  \n",
              "41185           0.0  \n",
              "41186           0.0  \n",
              "41187           0.0  \n",
              "\n",
              "[41188 rows x 18 columns]"
            ],
            "text/html": [
              "\n",
              "  <div id=\"df-04234d5d-1919-4a46-9670-5f87ed70c20b\">\n",
              "    <div class=\"colab-df-container\">\n",
              "      <div>\n",
              "<style scoped>\n",
              "    .dataframe tbody tr th:only-of-type {\n",
              "        vertical-align: middle;\n",
              "    }\n",
              "\n",
              "    .dataframe tbody tr th {\n",
              "        vertical-align: top;\n",
              "    }\n",
              "\n",
              "    .dataframe thead th {\n",
              "        text-align: right;\n",
              "    }\n",
              "</style>\n",
              "<table border=\"1\" class=\"dataframe\">\n",
              "  <thead>\n",
              "    <tr style=\"text-align: right;\">\n",
              "      <th></th>\n",
              "      <th>age</th>\n",
              "      <th>duration</th>\n",
              "      <th>campaign</th>\n",
              "      <th>pdays</th>\n",
              "      <th>previous</th>\n",
              "      <th>poutcome</th>\n",
              "      <th>emp.var.rate</th>\n",
              "      <th>cons.price.idx</th>\n",
              "      <th>cons.conf.idx</th>\n",
              "      <th>euribor3m</th>\n",
              "      <th>nr.employed</th>\n",
              "      <th>y</th>\n",
              "      <th>job_encoded</th>\n",
              "      <th>marital_encoded</th>\n",
              "      <th>education_encoded</th>\n",
              "      <th>default_encoded</th>\n",
              "      <th>housing_encoded</th>\n",
              "      <th>loan_encoded</th>\n",
              "    </tr>\n",
              "  </thead>\n",
              "  <tbody>\n",
              "    <tr>\n",
              "      <th>0</th>\n",
              "      <td>56</td>\n",
              "      <td>261</td>\n",
              "      <td>1</td>\n",
              "      <td>999</td>\n",
              "      <td>0</td>\n",
              "      <td>1</td>\n",
              "      <td>1.1</td>\n",
              "      <td>93.994</td>\n",
              "      <td>-36.4</td>\n",
              "      <td>4.857</td>\n",
              "      <td>5191.0</td>\n",
              "      <td>0</td>\n",
              "      <td>3.0</td>\n",
              "      <td>1.0</td>\n",
              "      <td>0.0</td>\n",
              "      <td>0.0</td>\n",
              "      <td>0.0</td>\n",
              "      <td>0.0</td>\n",
              "    </tr>\n",
              "    <tr>\n",
              "      <th>1</th>\n",
              "      <td>57</td>\n",
              "      <td>149</td>\n",
              "      <td>1</td>\n",
              "      <td>999</td>\n",
              "      <td>0</td>\n",
              "      <td>1</td>\n",
              "      <td>1.1</td>\n",
              "      <td>93.994</td>\n",
              "      <td>-36.4</td>\n",
              "      <td>4.857</td>\n",
              "      <td>5191.0</td>\n",
              "      <td>0</td>\n",
              "      <td>7.0</td>\n",
              "      <td>1.0</td>\n",
              "      <td>3.0</td>\n",
              "      <td>NaN</td>\n",
              "      <td>0.0</td>\n",
              "      <td>0.0</td>\n",
              "    </tr>\n",
              "    <tr>\n",
              "      <th>2</th>\n",
              "      <td>37</td>\n",
              "      <td>226</td>\n",
              "      <td>1</td>\n",
              "      <td>999</td>\n",
              "      <td>0</td>\n",
              "      <td>1</td>\n",
              "      <td>1.1</td>\n",
              "      <td>93.994</td>\n",
              "      <td>-36.4</td>\n",
              "      <td>4.857</td>\n",
              "      <td>5191.0</td>\n",
              "      <td>0</td>\n",
              "      <td>7.0</td>\n",
              "      <td>1.0</td>\n",
              "      <td>3.0</td>\n",
              "      <td>0.0</td>\n",
              "      <td>2.0</td>\n",
              "      <td>0.0</td>\n",
              "    </tr>\n",
              "    <tr>\n",
              "      <th>3</th>\n",
              "      <td>40</td>\n",
              "      <td>151</td>\n",
              "      <td>1</td>\n",
              "      <td>999</td>\n",
              "      <td>0</td>\n",
              "      <td>1</td>\n",
              "      <td>1.1</td>\n",
              "      <td>93.994</td>\n",
              "      <td>-36.4</td>\n",
              "      <td>4.857</td>\n",
              "      <td>5191.0</td>\n",
              "      <td>0</td>\n",
              "      <td>0.0</td>\n",
              "      <td>1.0</td>\n",
              "      <td>1.0</td>\n",
              "      <td>0.0</td>\n",
              "      <td>0.0</td>\n",
              "      <td>0.0</td>\n",
              "    </tr>\n",
              "    <tr>\n",
              "      <th>4</th>\n",
              "      <td>56</td>\n",
              "      <td>307</td>\n",
              "      <td>1</td>\n",
              "      <td>999</td>\n",
              "      <td>0</td>\n",
              "      <td>1</td>\n",
              "      <td>1.1</td>\n",
              "      <td>93.994</td>\n",
              "      <td>-36.4</td>\n",
              "      <td>4.857</td>\n",
              "      <td>5191.0</td>\n",
              "      <td>0</td>\n",
              "      <td>7.0</td>\n",
              "      <td>1.0</td>\n",
              "      <td>3.0</td>\n",
              "      <td>0.0</td>\n",
              "      <td>0.0</td>\n",
              "      <td>2.0</td>\n",
              "    </tr>\n",
              "    <tr>\n",
              "      <th>...</th>\n",
              "      <td>...</td>\n",
              "      <td>...</td>\n",
              "      <td>...</td>\n",
              "      <td>...</td>\n",
              "      <td>...</td>\n",
              "      <td>...</td>\n",
              "      <td>...</td>\n",
              "      <td>...</td>\n",
              "      <td>...</td>\n",
              "      <td>...</td>\n",
              "      <td>...</td>\n",
              "      <td>...</td>\n",
              "      <td>...</td>\n",
              "      <td>...</td>\n",
              "      <td>...</td>\n",
              "      <td>...</td>\n",
              "      <td>...</td>\n",
              "      <td>...</td>\n",
              "    </tr>\n",
              "    <tr>\n",
              "      <th>41183</th>\n",
              "      <td>73</td>\n",
              "      <td>334</td>\n",
              "      <td>1</td>\n",
              "      <td>999</td>\n",
              "      <td>0</td>\n",
              "      <td>1</td>\n",
              "      <td>-1.1</td>\n",
              "      <td>94.767</td>\n",
              "      <td>-50.8</td>\n",
              "      <td>1.028</td>\n",
              "      <td>4963.6</td>\n",
              "      <td>1</td>\n",
              "      <td>5.0</td>\n",
              "      <td>1.0</td>\n",
              "      <td>5.0</td>\n",
              "      <td>0.0</td>\n",
              "      <td>2.0</td>\n",
              "      <td>0.0</td>\n",
              "    </tr>\n",
              "    <tr>\n",
              "      <th>41184</th>\n",
              "      <td>46</td>\n",
              "      <td>383</td>\n",
              "      <td>1</td>\n",
              "      <td>999</td>\n",
              "      <td>0</td>\n",
              "      <td>1</td>\n",
              "      <td>-1.1</td>\n",
              "      <td>94.767</td>\n",
              "      <td>-50.8</td>\n",
              "      <td>1.028</td>\n",
              "      <td>4963.6</td>\n",
              "      <td>0</td>\n",
              "      <td>1.0</td>\n",
              "      <td>1.0</td>\n",
              "      <td>5.0</td>\n",
              "      <td>0.0</td>\n",
              "      <td>0.0</td>\n",
              "      <td>0.0</td>\n",
              "    </tr>\n",
              "    <tr>\n",
              "      <th>41185</th>\n",
              "      <td>56</td>\n",
              "      <td>189</td>\n",
              "      <td>2</td>\n",
              "      <td>999</td>\n",
              "      <td>0</td>\n",
              "      <td>1</td>\n",
              "      <td>-1.1</td>\n",
              "      <td>94.767</td>\n",
              "      <td>-50.8</td>\n",
              "      <td>1.028</td>\n",
              "      <td>4963.6</td>\n",
              "      <td>0</td>\n",
              "      <td>5.0</td>\n",
              "      <td>1.0</td>\n",
              "      <td>6.0</td>\n",
              "      <td>0.0</td>\n",
              "      <td>2.0</td>\n",
              "      <td>0.0</td>\n",
              "    </tr>\n",
              "    <tr>\n",
              "      <th>41186</th>\n",
              "      <td>44</td>\n",
              "      <td>442</td>\n",
              "      <td>1</td>\n",
              "      <td>999</td>\n",
              "      <td>0</td>\n",
              "      <td>1</td>\n",
              "      <td>-1.1</td>\n",
              "      <td>94.767</td>\n",
              "      <td>-50.8</td>\n",
              "      <td>1.028</td>\n",
              "      <td>4963.6</td>\n",
              "      <td>1</td>\n",
              "      <td>9.0</td>\n",
              "      <td>1.0</td>\n",
              "      <td>5.0</td>\n",
              "      <td>0.0</td>\n",
              "      <td>0.0</td>\n",
              "      <td>0.0</td>\n",
              "    </tr>\n",
              "    <tr>\n",
              "      <th>41187</th>\n",
              "      <td>74</td>\n",
              "      <td>239</td>\n",
              "      <td>3</td>\n",
              "      <td>999</td>\n",
              "      <td>1</td>\n",
              "      <td>0</td>\n",
              "      <td>-1.1</td>\n",
              "      <td>94.767</td>\n",
              "      <td>-50.8</td>\n",
              "      <td>1.028</td>\n",
              "      <td>4963.6</td>\n",
              "      <td>0</td>\n",
              "      <td>5.0</td>\n",
              "      <td>1.0</td>\n",
              "      <td>5.0</td>\n",
              "      <td>0.0</td>\n",
              "      <td>2.0</td>\n",
              "      <td>0.0</td>\n",
              "    </tr>\n",
              "  </tbody>\n",
              "</table>\n",
              "<p>41188 rows × 18 columns</p>\n",
              "</div>\n",
              "      <button class=\"colab-df-convert\" onclick=\"convertToInteractive('df-04234d5d-1919-4a46-9670-5f87ed70c20b')\"\n",
              "              title=\"Convert this dataframe to an interactive table.\"\n",
              "              style=\"display:none;\">\n",
              "        \n",
              "  <svg xmlns=\"http://www.w3.org/2000/svg\" height=\"24px\"viewBox=\"0 0 24 24\"\n",
              "       width=\"24px\">\n",
              "    <path d=\"M0 0h24v24H0V0z\" fill=\"none\"/>\n",
              "    <path d=\"M18.56 5.44l.94 2.06.94-2.06 2.06-.94-2.06-.94-.94-2.06-.94 2.06-2.06.94zm-11 1L8.5 8.5l.94-2.06 2.06-.94-2.06-.94L8.5 2.5l-.94 2.06-2.06.94zm10 10l.94 2.06.94-2.06 2.06-.94-2.06-.94-.94-2.06-.94 2.06-2.06.94z\"/><path d=\"M17.41 7.96l-1.37-1.37c-.4-.4-.92-.59-1.43-.59-.52 0-1.04.2-1.43.59L10.3 9.45l-7.72 7.72c-.78.78-.78 2.05 0 2.83L4 21.41c.39.39.9.59 1.41.59.51 0 1.02-.2 1.41-.59l7.78-7.78 2.81-2.81c.8-.78.8-2.07 0-2.86zM5.41 20L4 18.59l7.72-7.72 1.47 1.35L5.41 20z\"/>\n",
              "  </svg>\n",
              "      </button>\n",
              "      \n",
              "  <style>\n",
              "    .colab-df-container {\n",
              "      display:flex;\n",
              "      flex-wrap:wrap;\n",
              "      gap: 12px;\n",
              "    }\n",
              "\n",
              "    .colab-df-convert {\n",
              "      background-color: #E8F0FE;\n",
              "      border: none;\n",
              "      border-radius: 50%;\n",
              "      cursor: pointer;\n",
              "      display: none;\n",
              "      fill: #1967D2;\n",
              "      height: 32px;\n",
              "      padding: 0 0 0 0;\n",
              "      width: 32px;\n",
              "    }\n",
              "\n",
              "    .colab-df-convert:hover {\n",
              "      background-color: #E2EBFA;\n",
              "      box-shadow: 0px 1px 2px rgba(60, 64, 67, 0.3), 0px 1px 3px 1px rgba(60, 64, 67, 0.15);\n",
              "      fill: #174EA6;\n",
              "    }\n",
              "\n",
              "    [theme=dark] .colab-df-convert {\n",
              "      background-color: #3B4455;\n",
              "      fill: #D2E3FC;\n",
              "    }\n",
              "\n",
              "    [theme=dark] .colab-df-convert:hover {\n",
              "      background-color: #434B5C;\n",
              "      box-shadow: 0px 1px 3px 1px rgba(0, 0, 0, 0.15);\n",
              "      filter: drop-shadow(0px 1px 2px rgba(0, 0, 0, 0.3));\n",
              "      fill: #FFFFFF;\n",
              "    }\n",
              "  </style>\n",
              "\n",
              "      <script>\n",
              "        const buttonEl =\n",
              "          document.querySelector('#df-04234d5d-1919-4a46-9670-5f87ed70c20b button.colab-df-convert');\n",
              "        buttonEl.style.display =\n",
              "          google.colab.kernel.accessAllowed ? 'block' : 'none';\n",
              "\n",
              "        async function convertToInteractive(key) {\n",
              "          const element = document.querySelector('#df-04234d5d-1919-4a46-9670-5f87ed70c20b');\n",
              "          const dataTable =\n",
              "            await google.colab.kernel.invokeFunction('convertToInteractive',\n",
              "                                                     [key], {});\n",
              "          if (!dataTable) return;\n",
              "\n",
              "          const docLinkHtml = 'Like what you see? Visit the ' +\n",
              "            '<a target=\"_blank\" href=https://colab.research.google.com/notebooks/data_table.ipynb>data table notebook</a>'\n",
              "            + ' to learn more about interactive tables.';\n",
              "          element.innerHTML = '';\n",
              "          dataTable['output_type'] = 'display_data';\n",
              "          await google.colab.output.renderOutput(dataTable, element);\n",
              "          const docLink = document.createElement('div');\n",
              "          docLink.innerHTML = docLinkHtml;\n",
              "          element.appendChild(docLink);\n",
              "        }\n",
              "      </script>\n",
              "    </div>\n",
              "  </div>\n",
              "  "
            ]
          },
          "metadata": {},
          "execution_count": 16
        }
      ],
      "source": [
        "d"
      ]
    },
    {
      "cell_type": "markdown",
      "metadata": {
        "id": "Nb_VhlgvGGaF"
      },
      "source": [
        "## *Xử Lý Outliers*"
      ]
    },
    {
      "cell_type": "code",
      "execution_count": null,
      "metadata": {
        "colab": {
          "base_uri": "https://localhost:8080/"
        },
        "id": "UJc8UfyuiR87",
        "outputId": "fdace6d3-55bf-4668-82b4-16d6b7b70939"
      },
      "outputs": [
        {
          "output_type": "stream",
          "name": "stdout",
          "text": [
            "\n"
          ]
        },
        {
          "output_type": "display_data",
          "data": {
            "text/plain": [
              "<Figure size 2000x800 with 1 Axes>"
            ],
            "image/png": "[encoded data removed]"
          },
          "metadata": {}
        }
      ],
      "source": [
        "# Vẽ biểu đồ boxplot thể hiện các cột chứa các outliers\n",
        "plt.figure(figsize=(20,8))\n",
        "d.boxplot()\n",
        "plt.xticks(rotation=45)\n",
        "print()"
      ]
    },
    {
      "cell_type": "markdown",
      "metadata": {
        "id": "Ndb64nTOHFDI"
      },
      "source": [
        "Từ biểu đồ trên, ta thấy cột như: duration là chứa nhiều giá trị outliers nhất và các cột age, campaign, pdays, previous, cons.conf.idx, default_encoded, loan_encoded có chứa dữ liệu khuyết thiếu nhưng không đáng kể.\n",
        "Mình sẽ tiến hành kiểm tra từng biến để xem sẽ xử lý cột nào."
      ]
    },
    {
      "cell_type": "code",
      "execution_count": null,
      "metadata": {
        "colab": {
          "base_uri": "https://localhost:8080/"
        },
        "id": "IBeQARyKi4J1",
        "outputId": "967f2e86-53e8-4059-b821-e8f6a490f865"
      },
      "outputs": [
        {
          "output_type": "execute_result",
          "data": {
            "text/plain": [
              "<Axes: ylabel='loan_encoded'>"
            ]
          },
          "metadata": {},
          "execution_count": 18
        },
        {
          "output_type": "display_data",
          "data": {
            "text/plain": [
              "<Figure size 1500x1000 with 8 Axes>"
            ],
            "image/png": "[encoded data removed]"
          },
          "metadata": {}
        }
      ],
      "source": [
        "fig, axs = plt.subplots(nrows=2, ncols=4,figsize=(15,10), sharex=True)\n",
        "sns.boxplot(y=d[\"age\"],ax=axs[0][0])\n",
        "sns.boxplot(y=d[\"duration\"],ax=axs[0][1])\n",
        "sns.boxplot(y=d[\"campaign\"],ax=axs[0][2])\n",
        "sns.boxplot(y=d[\"pdays\"],ax=axs[0][3])\n",
        "sns.boxplot(y=d[\"previous\"],ax=axs[1][0])\n",
        "sns.boxplot(y=d[\"cons.conf.idx\"],ax=axs[1][1])\n",
        "sns.boxplot(y=d[\"default_encoded\"],ax=axs[1][2])\n",
        "sns.boxplot(y=d[\"loan_encoded\"],ax=axs[1][3])"
      ]
    },
    {
      "cell_type": "markdown",
      "metadata": {
        "id": "4K_mEPpnIycB"
      },
      "source": [
        "Sau khi xem xét dữ liệu thì mình cho rằng chỉ có age, duration và previous là mình sẽ bỏ đi các outliers, còn các columns còn lại mình sẽ giữ nó"
      ]
    },
    {
      "cell_type": "code",
      "execution_count": null,
      "metadata": {
        "id": "YWir02O5IY1d"
      },
      "outputs": [],
      "source": [
        "# Xử Lý Outliers \n",
        "lower = 0.25\n",
        "higher = 0.75\n",
        "outlier_columns = ['age', 'duration', 'previous']\n",
        "for column in outlier_columns:     \n",
        "    Q1 = d[column].quantile(.25)\n",
        "    Q3 = d[column].quantile(.75)\n",
        "    IQR = Q3 - Q1\n",
        "    lower = Q1 - 1.5 * IQR\n",
        "    upper = Q3 + 1.5 * IQR\n",
        "    d = d[d[column] >= lower] \n",
        "    d = d[d[column] <=upper] "
      ]
    },
    {
      "cell_type": "markdown",
      "metadata": {
        "id": "WZfNUHehJNYU"
      },
      "source": [
        "## *- Fill missing value bằng module KNNImputer*"
      ]
    },
    {
      "cell_type": "code",
      "execution_count": null,
      "metadata": {
        "colab": {
          "base_uri": "https://localhost:8080/"
        },
        "id": "5KaQp1D_MXTA",
        "outputId": "0f932d11-2c5c-419d-b534-fe9e53d4eb80"
      },
      "outputs": [
        {
          "output_type": "stream",
          "name": "stdout",
          "text": [
            "<class 'pandas.core.frame.DataFrame'>\n",
            "Int64Index: 30573 entries, 0 to 41186\n",
            "Data columns (total 18 columns):\n",
            " #   Column             Non-Null Count  Dtype  \n",
            "---  ------             --------------  -----  \n",
            " 0   age                30573 non-null  int64  \n",
            " 1   duration           30573 non-null  int64  \n",
            " 2   campaign           30573 non-null  int64  \n",
            " 3   pdays              30573 non-null  int64  \n",
            " 4   previous           30573 non-null  int64  \n",
            " 5   poutcome           30573 non-null  int64  \n",
            " 6   emp.var.rate       30573 non-null  float64\n",
            " 7   cons.price.idx     30573 non-null  float64\n",
            " 8   cons.conf.idx      30573 non-null  float64\n",
            " 9   euribor3m          30573 non-null  float64\n",
            " 10  nr.employed        30573 non-null  float64\n",
            " 11  y                  30573 non-null  int64  \n",
            " 12  job_encoded        30322 non-null  float64\n",
            " 13  marital_encoded    30526 non-null  float64\n",
            " 14  education_encoded  29330 non-null  float64\n",
            " 15  default_encoded    23705 non-null  float64\n",
            " 16  housing_encoded    29835 non-null  float64\n",
            " 17  loan_encoded       29835 non-null  float64\n",
            "dtypes: float64(11), int64(7)\n",
            "memory usage: 4.4 MB\n"
          ]
        }
      ],
      "source": [
        "d.info()"
      ]
    },
    {
      "cell_type": "code",
      "execution_count": null,
      "metadata": {
        "id": "vYnCzNBZkfX7"
      },
      "outputs": [],
      "source": [
        "from sklearn.impute import KNNImputer\n",
        "\n",
        "# Khởi tạo đối tượng KNNImputer với n_neighbors = 9\n",
        "imputer = KNNImputer(n_neighbors=9)\n",
        "\n",
        "# Điền giá trị bị khuyết và trả về một mảng Numpy mới\n",
        "new_array  = imputer.fit_transform(d)\n",
        "\n",
        "# Tạo một DataFrame mới từ mảng Numpy\n",
        "df = pd.DataFrame(data=new_array, columns=d.columns)"
      ]
    },
    {
      "cell_type": "markdown",
      "metadata": {
        "id": "ko4VBpDCLIPU"
      },
      "source": [
        "Vì dữ liệu khuyết thiếu chiếm tới 20% nên mình sẽ không bỏ nó. Minhd sẽ dùng hàm KNNImputer để điền giá trị vào các dòng bị khuyết thiếu.\n"
      ]
    },
    {
      "cell_type": "code",
      "execution_count": null,
      "metadata": {
        "colab": {
          "base_uri": "https://localhost:8080/"
        },
        "id": "jVqZaDJufxOg",
        "outputId": "3c35c826-3017-43da-99f0-9a41c690eedc"
      },
      "outputs": [
        {
          "output_type": "execute_result",
          "data": {
            "text/plain": [
              "age                  0\n",
              "duration             0\n",
              "campaign             0\n",
              "pdays                0\n",
              "previous             0\n",
              "poutcome             0\n",
              "emp.var.rate         0\n",
              "cons.price.idx       0\n",
              "cons.conf.idx        0\n",
              "euribor3m            0\n",
              "nr.employed          0\n",
              "y                    0\n",
              "job_encoded          0\n",
              "marital_encoded      0\n",
              "education_encoded    0\n",
              "default_encoded      0\n",
              "housing_encoded      0\n",
              "loan_encoded         0\n",
              "dtype: int64"
            ]
          },
          "metadata": {},
          "execution_count": 22
        }
      ],
      "source": [
        "df.isnull().sum()"
      ]
    },
    {
      "cell_type": "markdown",
      "metadata": {
        "id": "D8ZXcZ46JfLW"
      },
      "source": [
        "## *- Xử Lý Data Imbalance*"
      ]
    },
    {
      "cell_type": "code",
      "execution_count": null,
      "metadata": {
        "id": "qxNeVVNhiGVZ"
      },
      "outputs": [],
      "source": [
        "y = df[\"y\"]\n",
        "X = df.drop(['y'], axis=1)"
      ]
    },
    {
      "cell_type": "code",
      "execution_count": null,
      "metadata": {
        "colab": {
          "base_uri": "https://localhost:8080/"
        },
        "id": "RwcIcRnZAgi1",
        "outputId": "99c16435-a553-4b93-b755-172d1e8b80f7"
      },
      "outputs": [
        {
          "output_type": "display_data",
          "data": {
            "text/plain": [
              "<Figure size 1600x800 with 1 Axes>"
            ],
            "image/png": "[encoded data removed]"
          },
          "metadata": {}
        }
      ],
      "source": [
        "plt.figure(figsize = (16,8))\n",
        "plt.title('Biểu đồ thể hiện phần trăm của các giá trị target'.upper(), fontsize = 16)\n",
        "plt.pie(y.value_counts(),labels=y.unique(), autopct = '%.f%%', colors = {'lightblue', 'pink'})\n",
        "plt.show()\n",
        "#data đang bị imbalance nên cần balance lại data"
      ]
    },
    {
      "cell_type": "markdown",
      "source": [
        "Target data đang bị imbalance nên khi đưa vào model sẽ dẫn đến việc bị overfitting là rất lớn nên trước khi đưa vào model mình sẽ balance lại."
      ],
      "metadata": {
        "id": "bW072tijLFQX"
      }
    },
    {
      "cell_type": "code",
      "execution_count": null,
      "metadata": {
        "id": "vlHJFDbAic4R"
      },
      "outputs": [],
      "source": [
        "from imblearn.over_sampling import SMOTE\n",
        "smote = SMOTE(sampling_strategy=0.8)\n",
        "X_resampled, y_resampled = smote.fit_resample(X, y)\n"
      ]
    },
    {
      "cell_type": "code",
      "execution_count": null,
      "metadata": {
        "colab": {
          "base_uri": "https://localhost:8080/"
        },
        "id": "Q1E_vIHbOrnO",
        "outputId": "c81b578a-2e05-48be-f4be-7c97bcca22e6"
      },
      "outputs": [
        {
          "output_type": "stream",
          "name": "stdout",
          "text": [
            "<class 'pandas.core.frame.DataFrame'>\n",
            "RangeIndex: 51926 entries, 0 to 51925\n",
            "Data columns (total 17 columns):\n",
            " #   Column             Non-Null Count  Dtype  \n",
            "---  ------             --------------  -----  \n",
            " 0   age                51926 non-null  float64\n",
            " 1   duration           51926 non-null  float64\n",
            " 2   campaign           51926 non-null  float64\n",
            " 3   pdays              51926 non-null  float64\n",
            " 4   previous           51926 non-null  float64\n",
            " 5   poutcome           51926 non-null  float64\n",
            " 6   emp.var.rate       51926 non-null  float64\n",
            " 7   cons.price.idx     51926 non-null  float64\n",
            " 8   cons.conf.idx      51926 non-null  float64\n",
            " 9   euribor3m          51926 non-null  float64\n",
            " 10  nr.employed        51926 non-null  float64\n",
            " 11  job_encoded        51926 non-null  float64\n",
            " 12  marital_encoded    51926 non-null  float64\n",
            " 13  education_encoded  51926 non-null  float64\n",
            " 14  default_encoded    51926 non-null  float64\n",
            " 15  housing_encoded    51926 non-null  float64\n",
            " 16  loan_encoded       51926 non-null  float64\n",
            "dtypes: float64(17)\n",
            "memory usage: 6.7 MB\n"
          ]
        }
      ],
      "source": [
        "X_resampled.info()"
      ]
    },
    {
      "cell_type": "code",
      "execution_count": null,
      "metadata": {
        "colab": {
          "base_uri": "https://localhost:8080/"
        },
        "id": "TEMSAK2yAb5n",
        "outputId": "bc2a3ea3-8ca1-4acb-c1fb-7151256d1122"
      },
      "outputs": [
        {
          "output_type": "display_data",
          "data": {
            "text/plain": [
              "<Figure size 1600x800 with 1 Axes>"
            ],
            "image/png": "[encoded data removed]"
          },
          "metadata": {}
        }
      ],
      "source": [
        "plt.figure(figsize = (16,8))\n",
        "plt.title('Biểu đồ thể hiện phần trăm của các giá trị target sau khi balanced'.upper(), fontsize = 16)\n",
        "plt.pie(y_resampled.value_counts(),labels=y_resampled.unique(), autopct = '%.f%%', colors = {'lightblue', 'pink'})\n",
        "plt.show()\n",
        "#target sau khi đã balanced"
      ]
    },
    {
      "cell_type": "markdown",
      "metadata": {
        "id": "mQ0jy8jEkGp5"
      },
      "source": [
        "##Scale data"
      ]
    },
    {
      "cell_type": "markdown",
      "source": [
        "Để model có thể hoạt động hiệu quả hơn mình sẽ scale data     "
      ],
      "metadata": {
        "id": "vqii573LLU2v"
      }
    },
    {
      "cell_type": "code",
      "execution_count": null,
      "metadata": {
        "colab": {
          "base_uri": "https://localhost:8080/"
        },
        "id": "py3tl-DAkIOI",
        "outputId": "218ecd71-60ec-4d13-b94e-7b98a0565c56"
      },
      "outputs": [
        {
          "output_type": "execute_result",
          "data": {
            "text/plain": [
              "array([[ 1.69282274, -0.03418315, -0.82247542, ..., -0.00875131,\n",
              "        -1.19151704, -0.45385978],\n",
              "       [ 1.79280527, -0.71022027, -0.82247542, ..., -0.00875131,\n",
              "        -1.19151704, -0.45385978],\n",
              "       [-0.20684539, -0.24544475, -0.82247542, ..., -0.00875131,\n",
              "         0.98905733, -0.45385978],\n",
              "       ...,\n",
              "       [-0.09811074, -0.60892843,  0.80004723, ..., -0.00875131,\n",
              "         0.89361743, -0.45385978],\n",
              "       [-0.46334692, -0.88972108, -0.4538171 , ..., -0.00875131,\n",
              "         0.98905733, -0.45385978],\n",
              "       [-0.3968919 ,  1.86910663, -0.82247542, ..., -0.00875131,\n",
              "        -0.27602342,  0.8199235 ]])"
            ]
          },
          "metadata": {},
          "execution_count": 28
        }
      ],
      "source": [
        "from sklearn.preprocessing import StandardScaler\n",
        "scaler = StandardScaler()\n",
        "X_resampled = scaler.fit_transform(X_resampled)\n",
        "X_resampled"
      ]
    },
    {
      "cell_type": "markdown",
      "metadata": {
        "id": "cQaGuJA69Mp9"
      },
      "source": [
        "#DeepLearning"
      ]
    },
    {
      "cell_type": "code",
      "execution_count": null,
      "metadata": {
        "id": "gb-bzW6E6UMq"
      },
      "outputs": [],
      "source": [
        "X_train, X_test, y_train, y_test = train_test_split(X_resampled, y_resampled, train_size = 0.80, test_size = 0.20, random_state = 42)"
      ]
    },
    {
      "cell_type": "markdown",
      "metadata": {
        "id": "rKykxJd5u5Ik"
      },
      "source": [
        "##Inital Model"
      ]
    },
    {
      "cell_type": "code",
      "execution_count": null,
      "metadata": {
        "colab": {
          "base_uri": "https://localhost:8080/"
        },
        "id": "z3wK3zfJ9OlX",
        "outputId": "e03ed911-9297-458a-855c-1e0bcca7e292"
      },
      "outputs": [
        {
          "output_type": "stream",
          "name": "stdout",
          "text": [
            "Epoch 1/100\n",
            "1299/1299 [==============================] - 5s 3ms/step - loss: 0.3619 - accuracy: 0.8405 - val_loss: 0.3054 - val_accuracy: 0.8710\n",
            "Epoch 2/100\n",
            "1299/1299 [==============================] - 3s 2ms/step - loss: 0.3139 - accuracy: 0.8662 - val_loss: 0.2800 - val_accuracy: 0.8842\n",
            "Epoch 3/100\n",
            "1299/1299 [==============================] - 3s 3ms/step - loss: 0.2905 - accuracy: 0.8778 - val_loss: 0.2626 - val_accuracy: 0.8920\n",
            "Epoch 4/100\n",
            "1299/1299 [==============================] - 5s 4ms/step - loss: 0.2752 - accuracy: 0.8851 - val_loss: 0.2461 - val_accuracy: 0.9019\n",
            "Epoch 5/100\n",
            "1299/1299 [==============================] - 3s 3ms/step - loss: 0.2614 - accuracy: 0.8912 - val_loss: 0.2363 - val_accuracy: 0.9039\n",
            "Epoch 6/100\n",
            "1299/1299 [==============================] - 3s 2ms/step - loss: 0.2539 - accuracy: 0.8959 - val_loss: 0.2296 - val_accuracy: 0.9080\n",
            "Epoch 7/100\n",
            "1299/1299 [==============================] - 3s 3ms/step - loss: 0.2450 - accuracy: 0.9001 - val_loss: 0.2213 - val_accuracy: 0.9116\n",
            "Epoch 8/100\n",
            "1299/1299 [==============================] - 5s 4ms/step - loss: 0.2419 - accuracy: 0.8994 - val_loss: 0.2181 - val_accuracy: 0.9110\n",
            "Epoch 9/100\n",
            "1299/1299 [==============================] - 4s 3ms/step - loss: 0.2327 - accuracy: 0.9033 - val_loss: 0.2144 - val_accuracy: 0.9128\n",
            "Epoch 10/100\n",
            "1299/1299 [==============================] - 3s 2ms/step - loss: 0.2305 - accuracy: 0.9048 - val_loss: 0.2089 - val_accuracy: 0.9138\n",
            "Epoch 11/100\n",
            "1299/1299 [==============================] - 3s 3ms/step - loss: 0.2259 - accuracy: 0.9068 - val_loss: 0.2075 - val_accuracy: 0.9165\n",
            "Epoch 12/100\n",
            "1299/1299 [==============================] - 4s 3ms/step - loss: 0.2225 - accuracy: 0.9080 - val_loss: 0.2029 - val_accuracy: 0.9184\n",
            "Epoch 13/100\n",
            "1299/1299 [==============================] - 3s 3ms/step - loss: 0.2194 - accuracy: 0.9090 - val_loss: 0.2018 - val_accuracy: 0.9169\n",
            "Epoch 14/100\n",
            "1299/1299 [==============================] - 3s 3ms/step - loss: 0.2164 - accuracy: 0.9102 - val_loss: 0.1994 - val_accuracy: 0.9170\n",
            "Epoch 15/100\n",
            "1299/1299 [==============================] - 4s 3ms/step - loss: 0.2154 - accuracy: 0.9106 - val_loss: 0.2010 - val_accuracy: 0.9176\n",
            "Epoch 16/100\n",
            "1299/1299 [==============================] - 4s 3ms/step - loss: 0.2131 - accuracy: 0.9103 - val_loss: 0.1966 - val_accuracy: 0.9194\n",
            "Epoch 17/100\n",
            "1299/1299 [==============================] - 3s 3ms/step - loss: 0.2075 - accuracy: 0.9134 - val_loss: 0.1912 - val_accuracy: 0.9241\n",
            "Epoch 18/100\n",
            "1299/1299 [==============================] - 3s 3ms/step - loss: 0.2053 - accuracy: 0.9156 - val_loss: 0.1926 - val_accuracy: 0.9231\n",
            "Epoch 19/100\n",
            "1299/1299 [==============================] - 3s 2ms/step - loss: 0.2055 - accuracy: 0.9151 - val_loss: 0.1939 - val_accuracy: 0.9221\n",
            "Epoch 20/100\n",
            "1299/1299 [==============================] - 5s 4ms/step - loss: 0.2033 - accuracy: 0.9155 - val_loss: 0.1894 - val_accuracy: 0.9218\n",
            "Epoch 21/100\n",
            "1299/1299 [==============================] - 3s 2ms/step - loss: 0.2032 - accuracy: 0.9148 - val_loss: 0.1878 - val_accuracy: 0.9246\n",
            "Epoch 22/100\n",
            "1299/1299 [==============================] - 3s 3ms/step - loss: 0.1995 - accuracy: 0.9178 - val_loss: 0.1860 - val_accuracy: 0.9252\n",
            "Epoch 23/100\n",
            "1299/1299 [==============================] - 3s 3ms/step - loss: 0.1988 - accuracy: 0.9178 - val_loss: 0.1845 - val_accuracy: 0.9261\n",
            "Epoch 24/100\n",
            "1299/1299 [==============================] - 5s 4ms/step - loss: 0.1985 - accuracy: 0.9169 - val_loss: 0.1870 - val_accuracy: 0.9230\n",
            "Epoch 25/100\n",
            "1299/1299 [==============================] - 3s 2ms/step - loss: 0.1973 - accuracy: 0.9176 - val_loss: 0.1808 - val_accuracy: 0.9274\n",
            "Epoch 26/100\n",
            "1299/1299 [==============================] - 3s 2ms/step - loss: 0.1943 - accuracy: 0.9187 - val_loss: 0.1872 - val_accuracy: 0.9258\n",
            "Epoch 27/100\n",
            "1299/1299 [==============================] - 3s 3ms/step - loss: 0.1934 - accuracy: 0.9211 - val_loss: 0.1806 - val_accuracy: 0.9283\n",
            "Epoch 28/100\n",
            "1299/1299 [==============================] - 6s 5ms/step - loss: 0.1923 - accuracy: 0.9182 - val_loss: 0.1779 - val_accuracy: 0.9288\n",
            "Epoch 29/100\n",
            "1299/1299 [==============================] - 3s 2ms/step - loss: 0.1895 - accuracy: 0.9209 - val_loss: 0.1807 - val_accuracy: 0.9297\n",
            "Epoch 30/100\n",
            "1299/1299 [==============================] - 3s 2ms/step - loss: 0.1913 - accuracy: 0.9201 - val_loss: 0.1778 - val_accuracy: 0.9298\n",
            "Epoch 31/100\n",
            "1299/1299 [==============================] - 3s 3ms/step - loss: 0.1876 - accuracy: 0.9231 - val_loss: 0.1763 - val_accuracy: 0.9301\n",
            "Epoch 32/100\n",
            "1299/1299 [==============================] - 4s 3ms/step - loss: 0.1866 - accuracy: 0.9218 - val_loss: 0.1785 - val_accuracy: 0.9280\n",
            "Epoch 33/100\n",
            "1299/1299 [==============================] - 3s 2ms/step - loss: 0.1875 - accuracy: 0.9213 - val_loss: 0.1762 - val_accuracy: 0.9295\n",
            "Epoch 34/100\n",
            "1299/1299 [==============================] - 3s 2ms/step - loss: 0.1860 - accuracy: 0.9225 - val_loss: 0.1747 - val_accuracy: 0.9299\n",
            "Epoch 35/100\n",
            "1299/1299 [==============================] - 3s 2ms/step - loss: 0.1866 - accuracy: 0.9227 - val_loss: 0.1727 - val_accuracy: 0.9307\n",
            "Epoch 36/100\n",
            "1299/1299 [==============================] - 5s 3ms/step - loss: 0.1867 - accuracy: 0.9222 - val_loss: 0.1775 - val_accuracy: 0.9305\n",
            "Epoch 37/100\n",
            "1299/1299 [==============================] - 3s 3ms/step - loss: 0.1831 - accuracy: 0.9248 - val_loss: 0.1750 - val_accuracy: 0.9303\n",
            "Epoch 38/100\n",
            "1299/1299 [==============================] - 3s 3ms/step - loss: 0.1857 - accuracy: 0.9225 - val_loss: 0.1706 - val_accuracy: 0.9317\n",
            "Epoch 39/100\n",
            "1299/1299 [==============================] - 3s 3ms/step - loss: 0.1828 - accuracy: 0.9241 - val_loss: 0.1695 - val_accuracy: 0.9330\n",
            "Epoch 40/100\n",
            "1299/1299 [==============================] - 4s 3ms/step - loss: 0.1839 - accuracy: 0.9235 - val_loss: 0.1682 - val_accuracy: 0.9328\n",
            "Epoch 41/100\n",
            "1299/1299 [==============================] - 4s 3ms/step - loss: 0.1805 - accuracy: 0.9237 - val_loss: 0.1703 - val_accuracy: 0.9299\n",
            "Epoch 42/100\n",
            "1299/1299 [==============================] - 3s 2ms/step - loss: 0.1815 - accuracy: 0.9245 - val_loss: 0.1700 - val_accuracy: 0.9312\n",
            "Epoch 43/100\n",
            "1299/1299 [==============================] - 3s 3ms/step - loss: 0.1780 - accuracy: 0.9255 - val_loss: 0.1678 - val_accuracy: 0.9323\n",
            "Epoch 44/100\n",
            "1299/1299 [==============================] - 5s 4ms/step - loss: 0.1787 - accuracy: 0.9247 - val_loss: 0.1696 - val_accuracy: 0.9318\n",
            "Epoch 45/100\n",
            "1299/1299 [==============================] - 3s 3ms/step - loss: 0.1784 - accuracy: 0.9253 - val_loss: 0.1679 - val_accuracy: 0.9336\n",
            "Epoch 46/100\n",
            "1299/1299 [==============================] - 3s 3ms/step - loss: 0.1783 - accuracy: 0.9252 - val_loss: 0.1660 - val_accuracy: 0.9315\n",
            "Epoch 47/100\n",
            "1299/1299 [==============================] - 3s 3ms/step - loss: 0.1778 - accuracy: 0.9264 - val_loss: 0.1690 - val_accuracy: 0.9308\n",
            "Epoch 48/100\n",
            "1299/1299 [==============================] - 5s 4ms/step - loss: 0.1785 - accuracy: 0.9260 - val_loss: 0.1665 - val_accuracy: 0.9333\n",
            "Epoch 49/100\n",
            "1299/1299 [==============================] - 3s 3ms/step - loss: 0.1760 - accuracy: 0.9270 - val_loss: 0.1673 - val_accuracy: 0.9340\n",
            "Epoch 50/100\n",
            "1299/1299 [==============================] - 3s 3ms/step - loss: 0.1757 - accuracy: 0.9260 - val_loss: 0.1627 - val_accuracy: 0.9340\n",
            "Epoch 51/100\n",
            "1299/1299 [==============================] - 3s 2ms/step - loss: 0.1743 - accuracy: 0.9271 - val_loss: 0.1641 - val_accuracy: 0.9337\n",
            "Epoch 52/100\n",
            "1299/1299 [==============================] - 5s 4ms/step - loss: 0.1746 - accuracy: 0.9283 - val_loss: 0.1620 - val_accuracy: 0.9339\n",
            "Epoch 53/100\n",
            "1299/1299 [==============================] - 3s 2ms/step - loss: 0.1724 - accuracy: 0.9291 - val_loss: 0.1635 - val_accuracy: 0.9330\n",
            "Epoch 54/100\n",
            "1299/1299 [==============================] - 3s 2ms/step - loss: 0.1744 - accuracy: 0.9276 - val_loss: 0.1625 - val_accuracy: 0.9358\n",
            "Epoch 55/100\n",
            "1299/1299 [==============================] - 3s 3ms/step - loss: 0.1726 - accuracy: 0.9291 - val_loss: 0.1599 - val_accuracy: 0.9377\n",
            "Epoch 56/100\n",
            "1299/1299 [==============================] - 5s 4ms/step - loss: 0.1725 - accuracy: 0.9285 - val_loss: 0.1601 - val_accuracy: 0.9353\n",
            "Epoch 57/100\n",
            "1299/1299 [==============================] - 3s 3ms/step - loss: 0.1696 - accuracy: 0.9295 - val_loss: 0.1619 - val_accuracy: 0.9365\n",
            "Epoch 58/100\n",
            "1299/1299 [==============================] - 3s 2ms/step - loss: 0.1709 - accuracy: 0.9290 - val_loss: 0.1609 - val_accuracy: 0.9336\n",
            "Epoch 59/100\n",
            "1299/1299 [==============================] - 3s 2ms/step - loss: 0.1697 - accuracy: 0.9308 - val_loss: 0.1610 - val_accuracy: 0.9350\n",
            "Epoch 60/100\n",
            "1299/1299 [==============================] - 5s 4ms/step - loss: 0.1701 - accuracy: 0.9289 - val_loss: 0.1573 - val_accuracy: 0.9358\n",
            "Epoch 61/100\n",
            "1299/1299 [==============================] - 3s 3ms/step - loss: 0.1719 - accuracy: 0.9289 - val_loss: 0.1616 - val_accuracy: 0.9334\n",
            "Epoch 62/100\n",
            "1299/1299 [==============================] - 3s 2ms/step - loss: 0.1681 - accuracy: 0.9298 - val_loss: 0.1592 - val_accuracy: 0.9353\n",
            "Epoch 63/100\n",
            "1299/1299 [==============================] - 3s 3ms/step - loss: 0.1699 - accuracy: 0.9302 - val_loss: 0.1548 - val_accuracy: 0.9369\n",
            "Epoch 64/100\n",
            "1299/1299 [==============================] - 4s 3ms/step - loss: 0.1675 - accuracy: 0.9296 - val_loss: 0.1601 - val_accuracy: 0.9352\n",
            "Epoch 65/100\n",
            "1299/1299 [==============================] - 4s 3ms/step - loss: 0.1668 - accuracy: 0.9312 - val_loss: 0.1571 - val_accuracy: 0.9366\n",
            "Epoch 66/100\n",
            "1299/1299 [==============================] - 3s 2ms/step - loss: 0.1679 - accuracy: 0.9292 - val_loss: 0.1558 - val_accuracy: 0.9387\n",
            "Epoch 67/100\n",
            "1299/1299 [==============================] - 3s 3ms/step - loss: 0.1681 - accuracy: 0.9301 - val_loss: 0.1594 - val_accuracy: 0.9365\n",
            "Epoch 68/100\n",
            "1299/1299 [==============================] - 4s 3ms/step - loss: 0.1664 - accuracy: 0.9318 - val_loss: 0.1575 - val_accuracy: 0.9383\n",
            "Epoch 69/100\n",
            "1299/1299 [==============================] - 4s 3ms/step - loss: 0.1665 - accuracy: 0.9311 - val_loss: 0.1542 - val_accuracy: 0.9400\n",
            "Epoch 70/100\n",
            "1299/1299 [==============================] - 3s 3ms/step - loss: 0.1661 - accuracy: 0.9304 - val_loss: 0.1541 - val_accuracy: 0.9375\n",
            "Epoch 71/100\n",
            "1299/1299 [==============================] - 3s 3ms/step - loss: 0.1651 - accuracy: 0.9326 - val_loss: 0.1570 - val_accuracy: 0.9365\n",
            "Epoch 72/100\n",
            "1299/1299 [==============================] - 5s 4ms/step - loss: 0.1654 - accuracy: 0.9318 - val_loss: 0.1571 - val_accuracy: 0.9373\n",
            "Epoch 73/100\n",
            "1299/1299 [==============================] - 3s 3ms/step - loss: 0.1642 - accuracy: 0.9317 - val_loss: 0.1568 - val_accuracy: 0.9374\n",
            "Epoch 74/100\n",
            "1299/1299 [==============================] - 3s 3ms/step - loss: 0.1649 - accuracy: 0.9323 - val_loss: 0.1548 - val_accuracy: 0.9374\n",
            "Epoch 75/100\n",
            "1299/1299 [==============================] - 3s 3ms/step - loss: 0.1643 - accuracy: 0.9320 - val_loss: 0.1532 - val_accuracy: 0.9382\n",
            "Epoch 76/100\n",
            "1299/1299 [==============================] - 5s 4ms/step - loss: 0.1629 - accuracy: 0.9312 - val_loss: 0.1542 - val_accuracy: 0.9384\n",
            "Epoch 77/100\n",
            "1299/1299 [==============================] - 3s 3ms/step - loss: 0.1630 - accuracy: 0.9328 - val_loss: 0.1559 - val_accuracy: 0.9364\n",
            "Epoch 78/100\n",
            "1299/1299 [==============================] - 3s 3ms/step - loss: 0.1637 - accuracy: 0.9320 - val_loss: 0.1501 - val_accuracy: 0.9408\n",
            "Epoch 79/100\n",
            "1299/1299 [==============================] - 3s 3ms/step - loss: 0.1630 - accuracy: 0.9326 - val_loss: 0.1546 - val_accuracy: 0.9389\n",
            "Epoch 80/100\n",
            "1299/1299 [==============================] - 5s 4ms/step - loss: 0.1635 - accuracy: 0.9318 - val_loss: 0.1536 - val_accuracy: 0.9379\n",
            "Epoch 81/100\n",
            "1299/1299 [==============================] - 3s 2ms/step - loss: 0.1628 - accuracy: 0.9313 - val_loss: 0.1500 - val_accuracy: 0.9399\n",
            "Epoch 82/100\n",
            "1299/1299 [==============================] - 3s 3ms/step - loss: 0.1625 - accuracy: 0.9321 - val_loss: 0.1517 - val_accuracy: 0.9401\n",
            "Epoch 83/100\n",
            "1299/1299 [==============================] - 3s 3ms/step - loss: 0.1631 - accuracy: 0.9316 - val_loss: 0.1510 - val_accuracy: 0.9400\n",
            "Epoch 84/100\n",
            "1299/1299 [==============================] - 4s 3ms/step - loss: 0.1648 - accuracy: 0.9321 - val_loss: 0.1515 - val_accuracy: 0.9393\n",
            "Epoch 85/100\n",
            "1299/1299 [==============================] - 3s 2ms/step - loss: 0.1606 - accuracy: 0.9341 - val_loss: 0.1498 - val_accuracy: 0.9397\n",
            "Epoch 86/100\n",
            "1299/1299 [==============================] - 3s 3ms/step - loss: 0.1612 - accuracy: 0.9327 - val_loss: 0.1508 - val_accuracy: 0.9386\n",
            "Epoch 87/100\n",
            "1299/1299 [==============================] - 3s 3ms/step - loss: 0.1606 - accuracy: 0.9339 - val_loss: 0.1526 - val_accuracy: 0.9401\n",
            "Epoch 88/100\n",
            "1299/1299 [==============================] - 4s 3ms/step - loss: 0.1596 - accuracy: 0.9340 - val_loss: 0.1520 - val_accuracy: 0.9400\n",
            "Epoch 89/100\n",
            "1299/1299 [==============================] - 3s 3ms/step - loss: 0.1616 - accuracy: 0.9338 - val_loss: 0.1517 - val_accuracy: 0.9383\n",
            "Epoch 90/100\n",
            "1299/1299 [==============================] - 3s 2ms/step - loss: 0.1601 - accuracy: 0.9336 - val_loss: 0.1505 - val_accuracy: 0.9390\n",
            "Epoch 91/100\n",
            "1299/1299 [==============================] - 3s 3ms/step - loss: 0.1609 - accuracy: 0.9331 - val_loss: 0.1538 - val_accuracy: 0.9391\n",
            "Epoch 92/100\n",
            "1299/1299 [==============================] - 4s 3ms/step - loss: 0.1609 - accuracy: 0.9346 - val_loss: 0.1520 - val_accuracy: 0.9414\n",
            "Epoch 93/100\n",
            "1299/1299 [==============================] - 4s 3ms/step - loss: 0.1593 - accuracy: 0.9344 - val_loss: 0.1499 - val_accuracy: 0.9402\n",
            "Epoch 94/100\n",
            "1299/1299 [==============================] - 4s 3ms/step - loss: 0.1613 - accuracy: 0.9326 - val_loss: 0.1513 - val_accuracy: 0.9411\n",
            "Epoch 95/100\n",
            "1299/1299 [==============================] - 3s 2ms/step - loss: 0.1610 - accuracy: 0.9344 - val_loss: 0.1506 - val_accuracy: 0.9425\n",
            "Epoch 96/100\n",
            "1299/1299 [==============================] - 5s 4ms/step - loss: 0.1581 - accuracy: 0.9347 - val_loss: 0.1503 - val_accuracy: 0.9401\n",
            "Epoch 97/100\n",
            "1299/1299 [==============================] - 3s 3ms/step - loss: 0.1602 - accuracy: 0.9320 - val_loss: 0.1489 - val_accuracy: 0.9413\n",
            "Epoch 98/100\n",
            "1299/1299 [==============================] - 3s 2ms/step - loss: 0.1607 - accuracy: 0.9331 - val_loss: 0.1496 - val_accuracy: 0.9403\n",
            "Epoch 99/100\n",
            "1299/1299 [==============================] - 3s 3ms/step - loss: 0.1587 - accuracy: 0.9338 - val_loss: 0.1503 - val_accuracy: 0.9381\n",
            "Epoch 100/100\n",
            "1299/1299 [==============================] - 4s 3ms/step - loss: 0.1607 - accuracy: 0.9340 - val_loss: 0.1501 - val_accuracy: 0.9403\n"
          ]
        }
      ],
      "source": [
        "from tensorflow.keras.models import Sequential\n",
        "from tensorflow.keras.layers import Dense, Dropout\n",
        "from tensorflow.keras import regularizers\n",
        "\n",
        "\n",
        "\n",
        "model = Sequential()\n",
        "model.add(Dense(128, kernel_initializer='he_uniform', activation='relu'))\n",
        "model.add(Dropout(0.3))\n",
        "model.add(Dense(64, kernel_initializer='he_uniform', activation='relu'))\n",
        "model.add(Dropout(0.3))\n",
        "model.add(Dense(1, activation='sigmoid'))\n",
        "\n",
        "model.compile(loss='binary_crossentropy', optimizer='adam', metrics=['accuracy'])\n",
        "# Train the model\n",
        "dl_train_model = model.fit(X_train, y_train, batch_size=32, epochs=100, validation_data=(X_test, y_test))"
      ]
    },
    {
      "cell_type": "code",
      "execution_count": null,
      "metadata": {
        "colab": {
          "base_uri": "https://localhost:8080/"
        },
        "id": "Wfx-48-vbK9t",
        "outputId": "ef426b50-9027-43e1-b10f-c922250327dd"
      },
      "outputs": [
        {
          "output_type": "display_data",
          "data": {
            "text/plain": [
              "<Figure size 640x480 with 1 Axes>"
            ],
            "image/png": "[encoded data removed]"
          },
          "metadata": {}
        }
      ],
      "source": [
        "plt.plot(dl_train_model.history['accuracy'], label='Training Accuracy')\n",
        "plt.plot(dl_train_model.history['val_accuracy'], label='Validation Accuracy')\n",
        "plt.title('Training and Validation Accuracy')\n",
        "plt.xlabel('Epoch')\n",
        "plt.ylabel('Accuracy')\n",
        "plt.legend()\n",
        "plt.show()"
      ]
    },
    {
      "cell_type": "code",
      "source": [
        "plt.plot(dl_train_model.history['loss'], label='Training Loss')\n",
        "plt.plot(dl_train_model.history['val_loss'], label='Validation Loss')\n",
        "plt.title('Training and Validation Loss')\n",
        "plt.xlabel('Epoch')\n",
        "plt.ylabel('Loss')\n",
        "plt.legend()\n",
        "plt.show()"
      ],
      "metadata": {
        "colab": {
          "base_uri": "https://localhost:8080/"
        },
        "id": "EnVqXn7c8uQo",
        "outputId": "a6eebb18-106a-45d7-a01b-6272c1f42a7f"
      },
      "execution_count": null,
      "outputs": [
        {
          "output_type": "display_data",
          "data": {
            "text/plain": [
              "<Figure size 640x480 with 1 Axes>"
            ],
            "image/png": "[encoded data removed]"
          },
          "metadata": {}
        }
      ]
    },
    {
      "cell_type": "code",
      "execution_count": null,
      "metadata": {
        "colab": {
          "base_uri": "https://localhost:8080/"
        },
        "id": "XNfswUHcNIC8",
        "outputId": "39ce14fa-5ac0-46ce-b5db-c6ab34ccc344"
      },
      "outputs": [
        {
          "output_type": "stream",
          "name": "stdout",
          "text": [
            "325/325 [==============================] - 1s 1ms/step\n"
          ]
        }
      ],
      "source": [
        "y_pred = model.predict(X_test)"
      ]
    },
    {
      "cell_type": "code",
      "execution_count": null,
      "metadata": {
        "colab": {
          "base_uri": "https://localhost:8080/"
        },
        "id": "D8oAHA80IZSa",
        "outputId": "26e8308a-49c1-4569-88ca-58f6203207ed"
      },
      "outputs": [
        {
          "output_type": "stream",
          "name": "stdout",
          "text": [
            "0.9403042557288658\n",
            "0.9019607843137255\n",
            "0.9732848899337465\n",
            "0.9362664473684209\n"
          ]
        }
      ],
      "source": [
        "from sklearn.metrics import accuracy_score, precision_score, recall_score, f1_score\n",
        "y_test = y_test.astype(int)\n",
        "y_pred = (y_pred > 0.5).astype(int)\n",
        "acc = accuracy_score(y_test, y_pred)\n",
        "prec = precision_score(y_test, y_pred)\n",
        "rec = recall_score(y_test, y_pred)\n",
        "f1 = f1_score(y_test, y_pred)\n",
        "print(acc)\n",
        "print(prec)\n",
        "print(rec)\n",
        "print(f1)"
      ]
    },
    {
      "cell_type": "markdown",
      "metadata": {
        "id": "Mx8zw5VPtgsq"
      },
      "source": [
        "##Tunning save model"
      ]
    },
    {
      "cell_type": "code",
      "source": [
        "x_grid, x_not_use, y_grid, y_not_use = train_test_split(X_train, y_train, test_size=0.8, random_state=42)"
      ],
      "metadata": {
        "id": "1BtVXdBoJ6m6"
      },
      "execution_count": null,
      "outputs": []
    },
    {
      "cell_type": "code",
      "source": [
        "x_grid.shape, y_grid.shape"
      ],
      "metadata": {
        "colab": {
          "base_uri": "https://localhost:8080/"
        },
        "id": "0mJ3hKcjJ9-x",
        "outputId": "8c19a10a-77b1-4bd6-ce7f-dcfd5104c749"
      },
      "execution_count": null,
      "outputs": [
        {
          "output_type": "execute_result",
          "data": {
            "text/plain": [
              "((8308, 17), (8308,))"
            ]
          },
          "metadata": {},
          "execution_count": 31
        }
      ]
    },
    {
      "cell_type": "code",
      "source": [
        "from itertools import product\n",
        "from tensorflow.keras.models import Sequential\n",
        "from keras.layers import Dense, Dropout\n",
        "from keras.constraints import maxnorm\n",
        "from keras import regularizers\n",
        "from keras.wrappers.scikit_learn import KerasClassifier\n",
        "from sklearn.model_selection import GridSearchCV\n",
        "\n",
        "def define_model(dropout_rate=0.0, weight_constraint=0, neurons= (256,), reg_strength=0.01):   \n",
        "    model = Sequential()\n",
        "    if len(neurons) == 1: \n",
        "        model.add(Dense(neurons[0], activation='relu', input_dim=x_grid.shape[1], \n",
        "                        kernel_constraint=maxnorm(weight_constraint), kernel_regularizer=regularizers.l2(reg_strength)))\n",
        "        model.add(Dropout(dropout_rate))\n",
        "        model.add(Dense(neurons[0], activation='relu', kernel_regularizer=regularizers.l2(reg_strength)))\n",
        "        model.add(Dropout(dropout_rate))\n",
        "        model.add(Dense(neurons[0], activation='relu', kernel_regularizer=regularizers.l2(reg_strength)))\n",
        "        model.add(Dropout(dropout_rate))\n",
        "        model.add(Dense(1, activation='sigmoid'))\n",
        "    else:\n",
        "        model.add(Dense(neurons[0], activation='relu', input_dim=x_grid.shape[1],\n",
        "                        kernel_constraint=maxnorm(weight_constraint), kernel_regularizer=regularizers.l2(reg_strength)))\n",
        "        model.add(Dropout(dropout_rate))\n",
        "        for n in neurons[1:]:\n",
        "            model.add(Dense(n, activation='relu', kernel_regularizer=regularizers.l2(reg_strength)))\n",
        "            model.add(Dropout(dropout_rate))\n",
        "        model.add(Dense(1, activation='sigmoid'))\n",
        "    model.compile(loss='binary_crossentropy', optimizer='Adam', metrics=['accuracy'])\n",
        "    return model\n",
        "\n",
        "from keras.wrappers.scikit_learn import KerasClassifier\n",
        "\n",
        "model = KerasClassifier(build_fn=define_model, \n",
        "                        verbose=0)\n",
        "\n",
        "\n",
        "dropout_rate = [0.2, 0.3, 0.4]\n",
        "weight_constraint = [1, 2, 3]\n",
        "neurons = [(256,), (256, 192, 256), (512, 256, 256), (512,)]\n",
        "reg_strength = [0.01, 0.001, 0.0001]\n",
        "batch_size = [64, 96, 128]\n",
        "epochs = [5, 10]"
      ],
      "metadata": {
        "id": "CLj_PbQsAwMj"
      },
      "execution_count": null,
      "outputs": []
    },
    {
      "cell_type": "code",
      "source": [
        "param_grid = dict(dropout_rate=dropout_rate, \n",
        "                  weight_constraint=weight_constraint,\n",
        "                  neurons=neurons, reg_strength=reg_strength,\n",
        "                  batch_size=batch_size, epochs=epochs)\n",
        "grid = GridSearchCV(estimator=model, param_grid=param_grid, n_jobs = 3, cv=3)"
      ],
      "metadata": {
        "id": "o_XylLCFB_yv"
      },
      "execution_count": null,
      "outputs": []
    },
    {
      "cell_type": "code",
      "source": [
        "grid_result = grid.fit(x_grid, y_grid)"
      ],
      "metadata": {
        "id": "-ejezESIJ05g"
      },
      "execution_count": null,
      "outputs": []
    },
    {
      "cell_type": "code",
      "source": [
        "print(\"Best: %f using %s\" % (grid_result.best_score_, grid_result.best_params_))"
      ],
      "metadata": {
        "id": "281b-k2rfEzs",
        "colab": {
          "base_uri": "https://localhost:8080/"
        },
        "outputId": "8731457b-22a0-43fb-e1c6-a953fa93f6bd"
      },
      "execution_count": null,
      "outputs": [
        {
          "output_type": "stream",
          "name": "stdout",
          "text": [
            "Best: 0.902865 using {'batch_size': 128, 'dropout_rate': 0.2, 'epochs': 10, 'neurons': (512, 256, 256), 'reg_strength': 0.0001, 'weight_constraint': 1}\n"
          ]
        }
      ]
    },
    {
      "cell_type": "code",
      "source": [
        "best_model =grid_result.best_estimator_"
      ],
      "metadata": {
        "id": "bgKhDD2PfgBi"
      },
      "execution_count": null,
      "outputs": []
    },
    {
      "cell_type": "code",
      "source": [
        "history = best_model.fit(X_train, y_train, epochs=400, validation_data=(X_test, y_test))"
      ],
      "metadata": {
        "id": "j7I2g8d2SHM6"
      },
      "execution_count": null,
      "outputs": []
    },
    {
      "cell_type": "code",
      "source": [
        "plt.plot(history.history['accuracy'], label='Training Accuracy')\n",
        "plt.plot(history.history['val_accuracy'], label='Validation Accuracy')\n",
        "plt.title('Training and Validation Accuracy')\n",
        "plt.xlabel('Epoch')\n",
        "plt.ylabel('Accuracy')\n",
        "plt.legend()\n",
        "plt.show()"
      ],
      "metadata": {
        "colab": {
          "base_uri": "https://localhost:8080/",
          "height": 472
        },
        "id": "AQudI17joqKW",
        "outputId": "7d1205a1-a84e-4236-dfaf-624b99874e08"
      },
      "execution_count": null,
      "outputs": [
        {
          "output_type": "display_data",
          "data": {
            "text/plain": [
              "<Figure size 640x480 with 1 Axes>"
            ],
            "image/png": "[encoded data removed]"
          },
          "metadata": {}
        }
      ]
    },
    {
      "cell_type": "code",
      "source": [
        "plt.plot(history.history['loss'], label='Training Loss')\n",
        "plt.plot(history.history['val_loss'], label='Validation Loss')\n",
        "plt.title('Training and Validation Loss')\n",
        "plt.xlabel('Epoch')\n",
        "plt.ylabel('Loss')\n",
        "plt.legend()\n",
        "plt.show()"
      ],
      "metadata": {
        "colab": {
          "base_uri": "https://localhost:8080/",
          "height": 472
        },
        "id": "b9PJz6cp1Rgx",
        "outputId": "7ddb5839-ec5c-4d9c-8f23-1c6926dee0f2"
      },
      "execution_count": null,
      "outputs": [
        {
          "output_type": "display_data",
          "data": {
            "text/plain": [
              "<Figure size 640x480 with 1 Axes>"
            ],
            "image/png": "[encoded data removed]"
          },
          "metadata": {}
        }
      ]
    },
    {
      "cell_type": "code",
      "source": [
        "y_pred = best_model.predict(X_test)"
      ],
      "metadata": {
        "colab": {
          "base_uri": "https://localhost:8080/"
        },
        "id": "xt_s42d8o2dJ",
        "outputId": "21373d73-588b-4411-aab3-42794595e4f5"
      },
      "execution_count": null,
      "outputs": [
        {
          "output_type": "stream",
          "name": "stdout",
          "text": [
            "325/325 [==============================] - 1s 2ms/step\n"
          ]
        }
      ]
    },
    {
      "cell_type": "code",
      "source": [
        "from sklearn.metrics import accuracy_score, precision_score, recall_score, f1_score\n",
        "y_test = y_test.astype(int)\n",
        "y_pred = (y_pred > 0.5).astype(int)\n",
        "acc = accuracy_score(y_test, y_pred)\n",
        "prec = precision_score(y_test, y_pred)\n",
        "rec = recall_score(y_test, y_pred)\n",
        "f1 = f1_score(y_test, y_pred)\n",
        "print(acc)\n",
        "print(prec)\n",
        "print(rec)\n",
        "print(f1)"
      ],
      "metadata": {
        "colab": {
          "base_uri": "https://localhost:8080/"
        },
        "id": "04vvcu3spLSZ",
        "outputId": "79f20cde-54e5-4f3d-fab3-2afd67d88d83"
      },
      "execution_count": null,
      "outputs": [
        {
          "output_type": "stream",
          "name": "stdout",
          "text": [
            "0.96158290005777\n",
            "0.9443521594684385\n",
            "0.9720025646505663\n",
            "0.9579778830963666\n"
          ]
        }
      ]
    },
    {
      "cell_type": "code",
      "source": [
        "model_final = Sequential()\n",
        "model_final.add(Dense(512, activation='relu', input_dim=X_train.shape[1], kernel_initializer='he_uniform'\n",
        "                        kernel_constraint=maxnorm(1), kernel_regularizer=regularizers.l2(0.0001)))\n",
        "model_final.add(Dropout(0.2))\n",
        "model_final.add(Dense(256, activation='relu', kernel_regularizer=regularizers.l2(0.0001)))\n",
        "model_final.add(Dropout(0.2))\n",
        "model_final.add(Dense(256, activation='relu', kernel_regularizer=regularizers.l2(0.0001)))\n",
        "model_final.add(Dropout(0.2))\n",
        "model_final.add(Dense(1, activation='sigmoid'))\n",
        "model_final.compile(loss='binary_crossentropy', optimizer='Adam', metrics=['accuracy'])"
      ],
      "metadata": {
        "id": "pQFHTpeRL7tN"
      },
      "execution_count": null,
      "outputs": []
    },
    {
      "cell_type": "code",
      "source": [
        "history = model_final.fit(X_train, y_train, epochs=100, validation_data=(X_test, y_test))"
      ],
      "metadata": {
        "id": "VA7TtGVEMFTt"
      },
      "execution_count": null,
      "outputs": []
    },
    {
      "cell_type": "code",
      "source": [
        "best = grid_result.best_estimator_.model\n",
        "best.save('best_model.h5')"
      ],
      "metadata": {
        "id": "EMPDjZEMwINq"
      },
      "execution_count": null,
      "outputs": []
    },
    {
      "cell_type": "code",
      "source": [
        "best.save_weights('best_model_weights.h5')"
      ],
      "metadata": {
        "id": "3MWyOXp4j0lU"
      },
      "execution_count": null,
      "outputs": []
    }
  ],
  "metadata": {
    "colab": {
      "collapsed_sections": [
        "e09mBBKGB7AW",
        "mQ0jy8jEkGp5",
        "cQaGuJA69Mp9",
        "rKykxJd5u5Ik",
        "Mx8zw5VPtgsq"
      ],
      "provenance": []
    },
    "gpuClass": "standard",
    "kernelspec": {
      "display_name": "Python 3",
      "name": "python3"
    },
    "language_info": {
      "name": "python"
    }
  },
  "nbformat": 4,
  "nbformat_minor": 0
}